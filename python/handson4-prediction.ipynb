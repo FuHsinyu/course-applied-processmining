{
 "cells": [
  {
   "cell_type": "markdown",
   "id": "0b3c7252-d37f-4a77-94fe-9e2d10336189",
   "metadata": {},
   "source": [
    "# Process Mining Module - PDEng program Data Science\n",
    "\n",
    "This notebook is part of the Process Mining module of the JADS PDEng program on Data Science. The collection of notebooks is a *living document* and subject to change. \n",
    "\n",
    "# Hands-on 4 - 'Predictive Process Mining' (Python / PM4Py)\n",
    "\n",
    "* **Responsible Lecturer**: Dr. Felix Mannhardt, [@fmannhardt](https://twitter.com/fmannhardt)\n",
    "* **Last Update**: 19th May 2021"
   ]
  },
  {
   "cell_type": "markdown",
   "id": "c3f7d8c9-c22d-4bc6-a184-567070a6fb4a",
   "metadata": {},
   "source": [
    "## Setup\n",
    "\n",
    "<img src=\"https://pm4py.fit.fraunhofer.de/static/assets/images/pm4py-site-logo-padded.png\" alt=\"PM4Py\" style=\"width: 200px;\"/>\n",
    "\n",
    "In this notebook, we are using the following libraries: \n",
    "\n",
    "* [numpy](https://numpy.org/)\n",
    "* [pandas](https://pandas.pydata.org/)\n",
    "* [PM4Py library](https://pm4py.fit.fraunhofer.de/)\n",
    "* [PyTorch](https://pytorch.org/)"
   ]
  },
  {
   "cell_type": "code",
   "execution_count": 44,
   "id": "1c3ed78f-6d4d-45f4-9e42-12d112ac59d3",
   "metadata": {},
   "outputs": [],
   "source": [
    "## Perform the commented out commands to install the dependencies\n",
    "# %pip install numpy\n",
    "# %pip install pandas\n",
    "# %pip install matplotlib\n",
    "# %pip install pm4py\n",
    "# %pip install pytorch"
   ]
  },
  {
   "cell_type": "code",
   "execution_count": 289,
   "id": "999a013d-0375-4a46-b5f8-3f5e97433db5",
   "metadata": {},
   "outputs": [],
   "source": [
    "import numpy as np\n",
    "import pandas as pd\n",
    "import pm4py\n",
    "import os\n",
    "import torch\n",
    "import torch.nn as nn\n",
    "from tqdm import tqdm"
   ]
  },
  {
   "cell_type": "markdown",
   "id": "4fd38b12-4aba-4350-9415-f5d280e2ea4f",
   "metadata": {},
   "source": [
    "## Event Log"
   ]
  },
  {
   "cell_type": "code",
   "execution_count": 573,
   "id": "dba85380-33f1-4ea9-93e0-0f2be16150f6",
   "metadata": {},
   "outputs": [],
   "source": [
    "sepsis = pd.read_csv(\"../data/sepsis.csv\", sep=';')\n",
    "sepsis_log = pm4py.format_dataframe(sepsis, case_id='case_id', activity_key='activity', timestamp_key='timestamp')\n",
    "sepsis_log = pm4py.convert_to_event_log(sepsis_log)"
   ]
  },
  {
   "cell_type": "code",
   "execution_count": 204,
   "id": "cd982e1f-dbf3-4a6c-bce1-c8a295e56ef6",
   "metadata": {},
   "outputs": [
    {
     "data": {
      "text/plain": [
       "1050"
      ]
     },
     "execution_count": 204,
     "metadata": {},
     "output_type": "execute_result"
    }
   ],
   "source": [
    "len(sepsis_log)"
   ]
  },
  {
   "cell_type": "markdown",
   "id": "94d64ea8-e901-46ca-9a46-6c7abf3fa68a",
   "metadata": {},
   "source": [
    "## Feature Extraction / Encoding\n",
    "\n",
    "We are using the PM4Py functionality here:\n",
    "\n",
    "https://pm4py.fit.fraunhofer.de/documentation/1.5#item-7-0-1"
   ]
  },
  {
   "cell_type": "markdown",
   "id": "0a6a9625-4aca-4429-b467-2c118a2ea431",
   "metadata": {},
   "source": [
    "### Set of Events / 2-grams"
   ]
  },
  {
   "cell_type": "code",
   "execution_count": 512,
   "id": "fc2b66ef-0ddf-40a5-adb4-361b5a77eb91",
   "metadata": {},
   "outputs": [],
   "source": [
    "data, feature_names = get_log_representation.get_representation(sepsis_log, \n",
    "                                                                str_ev_attr=[\"concept:name\"],\n",
    "                                                                str_tr_attr=[],\n",
    "                                                                num_ev_attr=[],\n",
    "                                                                num_tr_attr=[],\n",
    "                                                                str_evsucc_attr=[])"
   ]
  },
  {
   "cell_type": "code",
   "execution_count": 513,
   "id": "52b5ca9a-8ea0-47cd-ae4d-bf54a1a03e13",
   "metadata": {},
   "outputs": [
    {
     "data": {
      "text/plain": [
       "['event:concept:name@Admission IC',\n",
       " 'event:concept:name@Admission NC',\n",
       " 'event:concept:name@CRP',\n",
       " 'event:concept:name@ER Registration',\n",
       " 'event:concept:name@ER Sepsis Triage',\n",
       " 'event:concept:name@ER Triage',\n",
       " 'event:concept:name@IV Antibiotics',\n",
       " 'event:concept:name@IV Liquid',\n",
       " 'event:concept:name@LacticAcid',\n",
       " 'event:concept:name@Leucocytes',\n",
       " 'event:concept:name@Release A',\n",
       " 'event:concept:name@Release B',\n",
       " 'event:concept:name@Release C',\n",
       " 'event:concept:name@Release D',\n",
       " 'event:concept:name@Release E',\n",
       " 'event:concept:name@Return ER']"
      ]
     },
     "execution_count": 513,
     "metadata": {},
     "output_type": "execute_result"
    }
   ],
   "source": [
    "feature_names"
   ]
  },
  {
   "cell_type": "code",
   "execution_count": 514,
   "id": "d4e71c6d-580f-4aae-a68e-e5143fb1a533",
   "metadata": {},
   "outputs": [
    {
     "data": {
      "text/plain": [
       "array([0, 1, 1, 1, 1, 1, 1, 1, 1, 1, 1, 0, 0, 0, 0, 0])"
      ]
     },
     "execution_count": 514,
     "metadata": {},
     "output_type": "execute_result"
    }
   ],
   "source": [
    "data[0]"
   ]
  },
  {
   "cell_type": "code",
   "execution_count": 515,
   "id": "0e9a2e83-3a45-409d-82b4-2d0101273fff",
   "metadata": {},
   "outputs": [
    {
     "data": {
      "text/plain": [
       "(1050, 16)"
      ]
     },
     "execution_count": 515,
     "metadata": {},
     "output_type": "execute_result"
    }
   ],
   "source": [
    "data.shape"
   ]
  },
  {
   "cell_type": "markdown",
   "id": "5982a66c-24c6-4f3f-b2cb-a42abab23b69",
   "metadata": {},
   "source": [
    "So, PM4Py gives us a *one-hot encoding* of the so called *set abstraction* of the event log. This means there are 16 distinct activities in the event log and the feature vector simply encodes whether that activity is present or not in the data. \n",
    "\n",
    "Let us have a look at the distribution of these feature vectors:"
   ]
  },
  {
   "cell_type": "code",
   "execution_count": 516,
   "id": "b514b73c-ba13-47f1-bce9-fc64684783ca",
   "metadata": {},
   "outputs": [
    {
     "data": {
      "text/plain": [
       "(array([[0, 0, 0, ..., 0, 0, 0],\n",
       "        [0, 0, 0, ..., 0, 0, 0],\n",
       "        [0, 0, 1, ..., 0, 0, 0],\n",
       "        ...,\n",
       "        [1, 1, 1, ..., 0, 0, 0],\n",
       "        [1, 1, 1, ..., 0, 0, 0],\n",
       "        [1, 1, 1, ..., 0, 0, 1]]),\n",
       " array([ 35,   2,  63,  23,   3,   8,   7,  99,   2,   3,   1,   1,   1,\n",
       "          2,   2,   2,   2,  28,  11,   2,   1,   1,   2,   6,  14,  13,\n",
       "          4,   1,   1,   2,   1,   3,  23,  16,   3,  10,   5,  21,   1,\n",
       "          9,   5,  14,   5,  29, 267, 186,   1,   1,   3,   4,   1,   1,\n",
       "          1,   2,   4,   8,   1,   1,   1,   2,   3,   1,   6,  31,  38],\n",
       "       dtype=int64))"
      ]
     },
     "execution_count": 516,
     "metadata": {},
     "output_type": "execute_result"
    }
   ],
   "source": [
    "dist_features = np.unique(data, return_counts= True, axis = 0)\n",
    "dist_features"
   ]
  },
  {
   "cell_type": "markdown",
   "id": "661d3f26-b06b-4aae-8f55-7e3e0c5e4acd",
   "metadata": {},
   "source": [
    "What is the most common feature vector?"
   ]
  },
  {
   "cell_type": "code",
   "execution_count": 517,
   "id": "d315b957-063d-476c-ad7a-7bd1682b350a",
   "metadata": {},
   "outputs": [
    {
     "data": {
      "text/plain": [
       "array([0, 1, 1, 1, 1, 1, 1, 1, 1, 1, 1, 0, 0, 0, 0, 0])"
      ]
     },
     "execution_count": 517,
     "metadata": {},
     "output_type": "execute_result"
    }
   ],
   "source": [
    "dist_features[0][np.argmax(dist_features[1])]"
   ]
  },
  {
   "cell_type": "markdown",
   "id": "26e6b973-dcbb-4719-8758-2ca4e64be582",
   "metadata": {},
   "source": [
    "Makes sense, almost all activities actually are bound to occur in this process. There are only few choices.\n",
    "So, this encoding is likely not the most useful one but let's anyway try to use it for an initial predictive model and iterate later."
   ]
  },
  {
   "cell_type": "markdown",
   "id": "a47f5556-a1a5-48b1-9f3b-574f5ccb172c",
   "metadata": {},
   "source": [
    "## Bag of Words / Multiset"
   ]
  },
  {
   "cell_type": "code",
   "execution_count": 574,
   "id": "b4d3724d-5b70-4018-b465-47c866381633",
   "metadata": {},
   "outputs": [
    {
     "name": "stdout",
     "output_type": "stream",
     "text": [
      "case_id    1049\n",
      "dtype: int64\n"
     ]
    },
    {
     "data": {
      "text/plain": [
       "(1049, 16)"
      ]
     },
     "execution_count": 574,
     "metadata": {},
     "output_type": "execute_result"
    }
   ],
   "source": [
    "print(sepsis.loc[:,[\"case_id\"]].nunique())\n",
    "data = np.asarray(sepsis.loc[:,[\"case_id\", \"activity\"]].groupby([\"case_id\", \"activity\"]).size().unstack(fill_value=0))\n",
    "data.shape"
   ]
  },
  {
   "cell_type": "markdown",
   "id": "6078eaf4-0033-4190-8540-e9d903e6873f",
   "metadata": {},
   "source": [
    "## Prediction"
   ]
  },
  {
   "cell_type": "markdown",
   "id": "e6a61ac6-d144-4c72-a184-2af014e07616",
   "metadata": {},
   "source": [
    "### Throughput time"
   ]
  },
  {
   "cell_type": "code",
   "execution_count": 562,
   "id": "0e5d03b2-106c-4b61-b2fd-c1d63fbfe69b",
   "metadata": {},
   "outputs": [],
   "source": [
    "from pm4py.statistics.traces.log import case_statistics\n",
    "durations = np.asarray(case_statistics.get_all_casedurations(sepsis_log, parameters={ case_statistics.Parameters.TIMESTAMP_KEY: \"time:timestamp\"} ))\n",
    "durations = np.expand_dims(durations, 1)\n",
    "len(durations)\n",
    "durations = durations / 60 / 60 / 24"
   ]
  },
  {
   "cell_type": "code",
   "execution_count": 563,
   "id": "049de87d-0c94-4a9b-8eea-8b494cd2bfa7",
   "metadata": {},
   "outputs": [
    {
     "data": {
      "text/plain": [
       "<AxesSubplot:>"
      ]
     },
     "execution_count": 563,
     "metadata": {},
     "output_type": "execute_result"
    },
    {
     "data": {
      "image/png": "[encoded data removed]",
      "text/plain": [
       "<Figure size 432x288 with 1 Axes>"
      ]
     },
     "metadata": {
      "needs_background": "light"
     },
     "output_type": "display_data"
    }
   ],
   "source": [
    "pd.DataFrame(durations).boxplot()"
   ]
  },
  {
   "cell_type": "code",
   "execution_count": 564,
   "id": "4a2bc0a1-e4c7-45f4-a43a-d5995ee9a682",
   "metadata": {},
   "outputs": [
    {
     "name": "stdout",
     "output_type": "stream",
     "text": [
      "(1049, 16)\n",
      "(1050, 1)\n"
     ]
    },
    {
     "ename": "AssertionError",
     "evalue": "Size mismatch between tensors",
     "output_type": "error",
     "traceback": [
      "\u001b[1;31m---------------------------------------------------------------------------\u001b[0m",
      "\u001b[1;31mAssertionError\u001b[0m                            Traceback (most recent call last)",
      "\u001b[1;32m<ipython-input-564-dadd2054b871>\u001b[0m in \u001b[0;36m<module>\u001b[1;34m\u001b[0m\n\u001b[0;32m      7\u001b[0m \u001b[0mprint\u001b[0m\u001b[1;33m(\u001b[0m\u001b[0mdurations\u001b[0m\u001b[1;33m.\u001b[0m\u001b[0mshape\u001b[0m\u001b[1;33m)\u001b[0m\u001b[1;33m\u001b[0m\u001b[1;33m\u001b[0m\u001b[0m\n\u001b[0;32m      8\u001b[0m \u001b[1;33m\u001b[0m\u001b[0m\n\u001b[1;32m----> 9\u001b[1;33m ds = TensorDataset(torch.from_numpy(data), \n\u001b[0m\u001b[0;32m     10\u001b[0m                    torch.from_numpy(durations))\n\u001b[0;32m     11\u001b[0m \u001b[0mtrain_dataloader\u001b[0m \u001b[1;33m=\u001b[0m \u001b[0mDataLoader\u001b[0m\u001b[1;33m(\u001b[0m\u001b[0mds\u001b[0m\u001b[1;33m,\u001b[0m \u001b[0mbatch_size\u001b[0m\u001b[1;33m=\u001b[0m\u001b[1;36m64\u001b[0m\u001b[1;33m,\u001b[0m \u001b[0mshuffle\u001b[0m\u001b[1;33m=\u001b[0m\u001b[1;32mTrue\u001b[0m\u001b[1;33m)\u001b[0m\u001b[1;33m\u001b[0m\u001b[1;33m\u001b[0m\u001b[0m\n",
      "\u001b[1;32mC:\\Tools\\miniconda3\\envs\\teach_pdeng\\lib\\site-packages\\torch\\utils\\data\\dataset.py\u001b[0m in \u001b[0;36m__init__\u001b[1;34m(self, *tensors)\u001b[0m\n\u001b[0;32m    165\u001b[0m \u001b[1;33m\u001b[0m\u001b[0m\n\u001b[0;32m    166\u001b[0m     \u001b[1;32mdef\u001b[0m \u001b[0m__init__\u001b[0m\u001b[1;33m(\u001b[0m\u001b[0mself\u001b[0m\u001b[1;33m,\u001b[0m \u001b[1;33m*\u001b[0m\u001b[0mtensors\u001b[0m\u001b[1;33m:\u001b[0m \u001b[0mTensor\u001b[0m\u001b[1;33m)\u001b[0m \u001b[1;33m->\u001b[0m \u001b[1;32mNone\u001b[0m\u001b[1;33m:\u001b[0m\u001b[1;33m\u001b[0m\u001b[1;33m\u001b[0m\u001b[0m\n\u001b[1;32m--> 167\u001b[1;33m         \u001b[1;32massert\u001b[0m \u001b[0mall\u001b[0m\u001b[1;33m(\u001b[0m\u001b[0mtensors\u001b[0m\u001b[1;33m[\u001b[0m\u001b[1;36m0\u001b[0m\u001b[1;33m]\u001b[0m\u001b[1;33m.\u001b[0m\u001b[0msize\u001b[0m\u001b[1;33m(\u001b[0m\u001b[1;36m0\u001b[0m\u001b[1;33m)\u001b[0m \u001b[1;33m==\u001b[0m \u001b[0mtensor\u001b[0m\u001b[1;33m.\u001b[0m\u001b[0msize\u001b[0m\u001b[1;33m(\u001b[0m\u001b[1;36m0\u001b[0m\u001b[1;33m)\u001b[0m \u001b[1;32mfor\u001b[0m \u001b[0mtensor\u001b[0m \u001b[1;32min\u001b[0m \u001b[0mtensors\u001b[0m\u001b[1;33m)\u001b[0m\u001b[1;33m,\u001b[0m \u001b[1;34m\"Size mismatch between tensors\"\u001b[0m\u001b[1;33m\u001b[0m\u001b[1;33m\u001b[0m\u001b[0m\n\u001b[0m\u001b[0;32m    168\u001b[0m         \u001b[0mself\u001b[0m\u001b[1;33m.\u001b[0m\u001b[0mtensors\u001b[0m \u001b[1;33m=\u001b[0m \u001b[0mtensors\u001b[0m\u001b[1;33m\u001b[0m\u001b[1;33m\u001b[0m\u001b[0m\n\u001b[0;32m    169\u001b[0m \u001b[1;33m\u001b[0m\u001b[0m\n",
      "\u001b[1;31mAssertionError\u001b[0m: Size mismatch between tensors"
     ]
    }
   ],
   "source": [
    "from torch.utils.data import TensorDataset, DataLoader\n",
    "\n",
    "data = data.astype('float32')\n",
    "durations = durations.astype('float32')\n",
    "\n",
    "print(data.shape)\n",
    "print(durations.shape)\n",
    "\n",
    "ds = TensorDataset(torch.from_numpy(data), \n",
    "                   torch.from_numpy(durations))\n",
    "train_dataloader = DataLoader(ds, batch_size=64, shuffle=True)"
   ]
  },
  {
   "cell_type": "markdown",
   "id": "778c0a7a-f710-40cb-bfa6-f7181bdd6411",
   "metadata": {},
   "source": [
    "Let's define a simple network and try to overfit:"
   ]
  },
  {
   "cell_type": "code",
   "execution_count": 525,
   "id": "ff7e9a89-0c57-4cb2-9e4f-62f2ec90c791",
   "metadata": {},
   "outputs": [],
   "source": [
    "class NeuralNetwork(nn.Module):\n",
    "    def __init__(self):\n",
    "        super(NeuralNetwork, self).__init__()\n",
    "        self.linear_relu_stack = nn.Sequential(            \n",
    "            torch.nn.Linear(16, 512),\n",
    "            nn.ReLU(),\n",
    "            torch.nn.Linear(512, 256),\n",
    "            nn.ReLU(),\n",
    "            torch.nn.Linear(256, 128),\n",
    "            nn.ReLU(),            \n",
    "            torch.nn.Linear(128, 1)\n",
    "        )\n",
    "\n",
    "    def forward(self, x):\n",
    "        logits = self.linear_relu_stack(x)\n",
    "        return logits"
   ]
  },
  {
   "cell_type": "code",
   "execution_count": 526,
   "id": "da4c5c80-f753-41dc-880f-cf473846ab4e",
   "metadata": {},
   "outputs": [
    {
     "name": "stdout",
     "output_type": "stream",
     "text": [
      "Using cpu device\n",
      "NeuralNetwork(\n",
      "  (linear_relu_stack): Sequential(\n",
      "    (0): Linear(in_features=16, out_features=512, bias=True)\n",
      "    (1): ReLU()\n",
      "    (2): Linear(in_features=512, out_features=256, bias=True)\n",
      "    (3): ReLU()\n",
      "    (4): Linear(in_features=256, out_features=128, bias=True)\n",
      "    (5): ReLU()\n",
      "    (6): Linear(in_features=128, out_features=1, bias=True)\n",
      "  )\n",
      ")\n"
     ]
    }
   ],
   "source": [
    "device = 'cpu' #'cuda' if torch.cuda.is_available() else 'cpu'\n",
    "print('Using {} device'.format(device))\n",
    "model = NeuralNetwork().to(device)\n",
    "print(model)"
   ]
  },
  {
   "cell_type": "code",
   "execution_count": 527,
   "id": "eceb53eb-e636-4f11-ab8e-f04c3c36a637",
   "metadata": {},
   "outputs": [],
   "source": [
    "def train(dataloader, model, loss_fn, measure_fn, optimizer, epochs, print_interval = 10):\n",
    "    \n",
    "    losses = []\n",
    "    size = len(dataloader.dataset)\n",
    "    \n",
    "    for epoch in range(epochs):    \n",
    "        \n",
    "        loop = tqdm(dataloader)\n",
    "\n",
    "        for batch, (X, y) in enumerate(loop):\n",
    "            X, y = X.to(device), y.to(device)\n",
    "\n",
    "            # Compute prediction error\n",
    "            pred = model(X)\n",
    "            \n",
    "            loss = loss_fn(pred, y)\n",
    "            measure = measure_fn(pred, y)\n",
    "\n",
    "            # Backpropagation\n",
    "            optimizer.zero_grad()\n",
    "            loss.backward()\n",
    "            optimizer.step()\n",
    "            \n",
    "            losses.append([loss.item(), measure.item()])\n",
    "\n",
    "            loop.set_description('Epoch {}/{}'.format(epoch + 1, epochs))\n",
    "            loop.set_postfix(loss=loss.item(), measure=measure.item())\n",
    "    \n",
    "    return losses"
   ]
  },
  {
   "cell_type": "code",
   "execution_count": 528,
   "id": "542533dd-79f4-41c8-979e-edc9d0889309",
   "metadata": {
    "scrolled": true,
    "tags": []
   },
   "outputs": [
    {
     "name": "stderr",
     "output_type": "stream",
     "text": [
      "Epoch 1/500: 100%|█████████████████████████████████████████| 17/17 [00:00<00:00, 124.09it/s, loss=7.2e+3, measure=29.6]\n",
      "Epoch 2/500: 100%|████████████████████████████████████████| 17/17 [00:00<00:00, 149.12it/s, loss=1086.75, measure=31.5]\n",
      "Epoch 3/500: 100%|██████████████████████████████████████████| 17/17 [00:00<00:00, 153.15it/s, loss=1.05e+3, measure=24]\n",
      "Epoch 4/500: 100%|██████████████████████████████████████████| 17/17 [00:00<00:00, 159.60it/s, loss=2.98e+3, measure=40]\n",
      "Epoch 5/500: 100%|████████████████████████████████████████| 17/17 [00:00<00:00, 160.38it/s, loss=1.22e+4, measure=60.1]\n",
      "Epoch 6/500: 100%|████████████████████████████████████████| 17/17 [00:00<00:00, 160.38it/s, loss=6.64e+3, measure=38.5]\n",
      "Epoch 7/500: 100%|███████████████████████████████████████████| 17/17 [00:00<00:00, 153.15it/s, loss=3.6e+3, measure=41]\n",
      "Epoch 8/500: 100%|████████████████████████████████████████| 17/17 [00:00<00:00, 153.15it/s, loss=1.93e+3, measure=29.2]\n",
      "Epoch 9/500: 100%|████████████████████████████████████████| 17/17 [00:00<00:00, 155.96it/s, loss=4.77e+3, measure=42.3]\n",
      "Epoch 10/500: 100%|███████████████████████████████████████████| 17/17 [00:00<00:00, 155.96it/s, loss=954, measure=28.2]\n",
      "Epoch 11/500: 100%|███████████████████████████████████████| 17/17 [00:00<00:00, 150.44it/s, loss=4.08e+3, measure=39.5]\n",
      "Epoch 12/500: 100%|███████████████████████████████████████████| 17/17 [00:00<00:00, 157.41it/s, loss=691, measure=22.2]\n",
      "Epoch 13/500: 100%|███████████████████████████████████████████| 17/17 [00:00<00:00, 149.13it/s, loss=698, measure=23.9]\n",
      "Epoch 14/500: 100%|███████████████████████████████████████| 17/17 [00:00<00:00, 158.84it/s, loss=2.64e+3, measure=33.7]\n",
      "Epoch 15/500: 100%|███████████████████████████████████████| 17/17 [00:00<00:00, 171.72it/s, loss=2.96e+3, measure=40.3]\n",
      "Epoch 16/500: 100%|███████████████████████████████████████| 17/17 [00:00<00:00, 170.00it/s, loss=5.32e+3, measure=41.2]\n",
      "Epoch 17/500: 100%|███████████████████████████████████████| 17/17 [00:00<00:00, 170.83it/s, loss=6.12e+3, measure=41.9]\n",
      "Epoch 18/500: 100%|███████████████████████████████████████| 17/17 [00:00<00:00, 175.21it/s, loss=4.41e+3, measure=42.9]\n",
      "Epoch 19/500: 100%|███████████████████████████████████████| 17/17 [00:00<00:00, 175.26it/s, loss=1.42e+3, measure=31.2]\n",
      "Epoch 20/500: 100%|███████████████████████████████████████████| 17/17 [00:00<00:00, 174.35it/s, loss=872, measure=21.9]\n",
      "Epoch 21/500: 100%|███████████████████████████████████████| 17/17 [00:00<00:00, 173.47it/s, loss=2.12e+3, measure=32.3]\n",
      "Epoch 22/500: 100%|████████████████████████████████████████████| 17/17 [00:00<00:00, 171.72it/s, loss=1e+3, measure=26]\n",
      "Epoch 23/500: 100%|███████████████████████████████████████| 17/17 [00:00<00:00, 173.47it/s, loss=5.63e+3, measure=43.4]\n",
      "Epoch 24/500: 100%|███████████████████████████████████████| 17/17 [00:00<00:00, 160.38it/s, loss=3.23e+3, measure=33.6]\n",
      "Epoch 25/500: 100%|█████████████████████████████████████████| 17/17 [00:00<00:00, 170.00it/s, loss=5.11e+3, measure=46]\n",
      "Epoch 26/500: 100%|███████████████████████████████████████| 17/17 [00:00<00:00, 173.47it/s, loss=4.38e+3, measure=34.7]\n",
      "Epoch 27/500: 100%|███████████████████████████████████████| 17/17 [00:00<00:00, 176.07it/s, loss=1.51e+3, measure=30.9]\n",
      "Epoch 28/500: 100%|███████████████████████████████████████| 17/17 [00:00<00:00, 175.99it/s, loss=1.18e+3, measure=28.3]\n",
      "Epoch 29/500: 100%|███████████████████████████████████████| 17/17 [00:00<00:00, 170.00it/s, loss=2.86e+3, measure=39.1]\n",
      "Epoch 30/500: 100%|█████████████████████████████████████████| 17/17 [00:00<00:00, 176.64it/s, loss=1.36e+3, measure=28]\n",
      "Epoch 31/500: 100%|███████████████████████████████████████| 17/17 [00:00<00:00, 163.26it/s, loss=2.03e+3, measure=30.2]\n",
      "Epoch 32/500: 100%|███████████████████████████████████████| 17/17 [00:00<00:00, 171.72it/s, loss=4.33e+3, measure=39.4]\n",
      "Epoch 33/500: 100%|█████████████████████████████████████████| 17/17 [00:00<00:00, 165.05it/s, loss=1.06e+3, measure=29]\n",
      "Epoch 34/500: 100%|███████████████████████████████████████| 17/17 [00:00<00:00, 175.25it/s, loss=5.01e+3, measure=38.1]\n",
      "Epoch 35/500: 100%|███████████████████████████████████████| 17/17 [00:00<00:00, 171.72it/s, loss=7.03e+3, measure=46.3]\n",
      "Epoch 36/500: 100%|███████████████████████████████████████| 17/17 [00:00<00:00, 163.46it/s, loss=2.56e+3, measure=33.5]\n",
      "Epoch 37/500: 100%|███████████████████████████████████████| 17/17 [00:00<00:00, 164.99it/s, loss=5.18e+3, measure=44.2]\n",
      "Epoch 38/500: 100%|███████████████████████████████████████| 17/17 [00:00<00:00, 154.50it/s, loss=4.62e+3, measure=47.4]\n",
      "Epoch 39/500: 100%|███████████████████████████████████████| 17/17 [00:00<00:00, 158.88it/s, loss=2.46e+3, measure=35.1]\n",
      "Epoch 40/500: 100%|███████████████████████████████████████| 17/17 [00:00<00:00, 138.60it/s, loss=1.28e+3, measure=28.4]\n",
      "Epoch 41/500: 100%|███████████████████████████████████████| 17/17 [00:00<00:00, 150.44it/s, loss=2.77e+3, measure=33.4]\n",
      "Epoch 42/500: 100%|███████████████████████████████████████| 17/17 [00:00<00:00, 146.55it/s, loss=7.76e+3, measure=48.4]\n",
      "Epoch 43/500: 100%|█████████████████████████████████████████| 17/17 [00:00<00:00, 138.21it/s, loss=3.01e+3, measure=35]\n",
      "Epoch 44/500: 100%|███████████████████████████████████████| 17/17 [00:00<00:00, 131.78it/s, loss=1.23e+3, measure=28.5]\n",
      "Epoch 45/500: 100%|███████████████████████████████████████████| 17/17 [00:00<00:00, 125.00it/s, loss=934, measure=25.6]\n",
      "Epoch 46/500: 100%|███████████████████████████████████████████| 17/17 [00:00<00:00, 125.92it/s, loss=491, measure=19.5]\n",
      "Epoch 47/500: 100%|███████████████████████████████████████████| 17/17 [00:00<00:00, 124.09it/s, loss=649, measure=22.9]\n",
      "Epoch 48/500: 100%|███████████████████████████████████████| 17/17 [00:00<00:00, 137.10it/s, loss=8.01e+3, measure=55.3]\n",
      "Epoch 49/500: 100%|███████████████████████████████████████| 17/17 [00:00<00:00, 125.93it/s, loss=4.08e+3, measure=37.2]\n",
      "Epoch 50/500: 100%|███████████████████████████████████████████| 17/17 [00:00<00:00, 141.67it/s, loss=971, measure=25.1]\n",
      "Epoch 51/500: 100%|████████████████████████████████████████| 17/17 [00:00<00:00, 141.67it/s, loss=1.3e+3, measure=29.5]\n",
      "Epoch 52/500: 100%|███████████████████████████████████████| 17/17 [00:00<00:00, 139.34it/s, loss=2.33e+3, measure=31.7]\n",
      "Epoch 53/500: 100%|███████████████████████████████████████| 17/17 [00:00<00:00, 129.26it/s, loss=2.38e+3, measure=38.6]\n",
      "Epoch 54/500: 100%|███████████████████████████████████████| 17/17 [00:00<00:00, 132.81it/s, loss=3.09e+3, measure=39.6]\n",
      "Epoch 55/500: 100%|███████████████████████████████████████████| 17/17 [00:00<00:00, 138.21it/s, loss=858, measure=26.3]\n",
      "Epoch 56/500: 100%|███████████████████████████████████████████| 17/17 [00:00<00:00, 137.09it/s, loss=972, measure=26.9]\n",
      "Epoch 57/500: 100%|███████████████████████████████████████| 17/17 [00:00<00:00, 139.94it/s, loss=2.55e+3, measure=38.2]\n",
      "Epoch 58/500: 100%|███████████████████████████████████████| 17/17 [00:00<00:00, 140.50it/s, loss=7.42e+3, measure=52.5]\n",
      "Epoch 59/500: 100%|███████████████████████████████████████| 17/17 [00:00<00:00, 138.16it/s, loss=3.42e+3, measure=42.8]\n",
      "Epoch 60/500: 100%|███████████████████████████████████████| 17/17 [00:00<00:00, 128.78it/s, loss=2.67e+3, measure=38.6]\n",
      "Epoch 61/500: 100%|███████████████████████████████████████| 17/17 [00:00<00:00, 136.00it/s, loss=9.58e+3, measure=45.1]\n",
      "Epoch 62/500: 100%|██████████████████████████████████████████| 17/17 [00:00<00:00, 133.32it/s, loss=7.8e+3, measure=50]\n",
      "Epoch 63/500: 100%|███████████████████████████████████████| 17/17 [00:00<00:00, 145.30it/s, loss=5.15e+3, measure=39.6]\n",
      "Epoch 64/500: 100%|███████████████████████████████████████| 17/17 [00:00<00:00, 137.10it/s, loss=6.15e+3, measure=40.5]\n",
      "Epoch 65/500: 100%|███████████████████████████████████████████| 17/17 [00:00<00:00, 130.77it/s, loss=843, measure=25.8]\n",
      "Epoch 66/500: 100%|███████████████████████████████████████| 17/17 [00:00<00:00, 144.07it/s, loss=1.54e+3, measure=26.7]\n",
      "Epoch 67/500: 100%|███████████████████████████████████████| 17/17 [00:00<00:00, 138.21it/s, loss=3.94e+3, measure=40.3]\n",
      "Epoch 68/500: 100%|███████████████████████████████████████| 17/17 [00:00<00:00, 134.92it/s, loss=4.69e+3, measure=32.1]\n",
      "Epoch 69/500: 100%|█████████████████████████████████████████| 17/17 [00:00<00:00, 128.24it/s, loss=1.48e+3, measure=29]\n",
      "Epoch 70/500: 100%|███████████████████████████████████████| 17/17 [00:00<00:00, 123.19it/s, loss=3.66e+3, measure=36.7]\n",
      "Epoch 71/500: 100%|███████████████████████████████████████| 17/17 [00:00<00:00, 124.09it/s, loss=3.58e+3, measure=36.8]\n",
      "Epoch 72/500: 100%|███████████████████████████████████████| 17/17 [00:00<00:00, 125.00it/s, loss=2.37e+3, measure=34.6]\n",
      "Epoch 73/500: 100%|████████████████████████████████████████| 17/17 [00:00<00:00, 124.03it/s, loss=4.2e+3, measure=38.9]\n",
      "Epoch 74/500: 100%|███████████████████████████████████████| 17/17 [00:00<00:00, 129.26it/s, loss=1.74e+3, measure=28.9]\n",
      "Epoch 75/500: 100%|███████████████████████████████████████| 17/17 [00:00<00:00, 124.09it/s, loss=1.66e+3, measure=32.9]\n",
      "Epoch 76/500: 100%|███████████████████████████████████████| 17/17 [00:00<00:00, 124.09it/s, loss=2.47e+3, measure=32.8]\n",
      "Epoch 77/500: 100%|███████████████████████████████████████| 17/17 [00:00<00:00, 120.54it/s, loss=7.31e+3, measure=45.3]\n",
      "Epoch 78/500: 100%|███████████████████████████████████████████| 17/17 [00:00<00:00, 114.87it/s, loss=647, measure=23.9]\n",
      "Epoch 79/500: 100%|█████████████████████████████████████████| 17/17 [00:00<00:00, 125.00it/s, loss=1.44e+3, measure=31]\n",
      "Epoch 80/500: 100%|███████████████████████████████████████| 17/17 [00:00<00:00, 117.24it/s, loss=1.41e+3, measure=29.6]\n",
      "Epoch 81/500: 100%|███████████████████████████████████████| 17/17 [00:00<00:00, 119.72it/s, loss=2.19e+3, measure=30.2]\n",
      "Epoch 82/500: 100%|███████████████████████████████████████| 17/17 [00:00<00:00, 120.54it/s, loss=3.25e+3, measure=39.5]\n",
      "Epoch 83/500: 100%|███████████████████████████████████████| 17/17 [00:00<00:00, 119.72it/s, loss=2.29e+3, measure=32.5]\n",
      "Epoch 84/500: 100%|███████████████████████████████████████| 17/17 [00:00<00:00, 123.62it/s, loss=3.24e+3, measure=34.7]\n",
      "Epoch 85/500: 100%|███████████████████████████████████████| 17/17 [00:00<00:00, 130.77it/s, loss=2.58e+3, measure=36.9]\n",
      "Epoch 86/500: 100%|███████████████████████████████████████| 17/17 [00:00<00:00, 126.87it/s, loss=2.58e+3, measure=32.5]\n",
      "Epoch 87/500: 100%|███████████████████████████████████████| 17/17 [00:00<00:00, 133.86it/s, loss=1.19e+4, measure=67.1]\n",
      "Epoch 88/500: 100%|███████████████████████████████████████| 17/17 [00:00<00:00, 129.77it/s, loss=3.37e+3, measure=37.6]\n",
      "Epoch 89/500: 100%|███████████████████████████████████████| 17/17 [00:00<00:00, 125.93it/s, loss=5.57e+3, measure=41.2]\n",
      "Epoch 90/500: 100%|███████████████████████████████████████████| 17/17 [00:00<00:00, 127.82it/s, loss=597, measure=19.7]\n",
      "Epoch 91/500: 100%|███████████████████████████████████████| 17/17 [00:00<00:00, 133.86it/s, loss=4.59e+3, measure=43.6]\n",
      "Epoch 92/500: 100%|████████████████████████████████████████| 17/17 [00:00<00:00, 120.04it/s, loss=4.7e+3, measure=42.2]\n",
      "Epoch 93/500: 100%|█████████████████████████████████████████| 17/17 [00:00<00:00, 120.55it/s, loss=7.16e+3, measure=54]\n",
      "Epoch 94/500: 100%|███████████████████████████████████████| 17/17 [00:00<00:00, 116.83it/s, loss=3.15e+3, measure=38.7]\n",
      "Epoch 95/500: 100%|███████████████████████████████████████| 17/17 [00:00<00:00, 120.57it/s, loss=3.58e+3, measure=41.2]\n",
      "Epoch 96/500: 100%|███████████████████████████████████████| 17/17 [00:00<00:00, 124.09it/s, loss=1.58e+3, measure=31.5]\n",
      "Epoch 97/500: 100%|███████████████████████████████████████████| 17/17 [00:00<00:00, 120.57it/s, loss=934, measure=27.8]\n",
      "Epoch 98/500: 100%|███████████████████████████████████████| 17/17 [00:00<00:00, 121.43it/s, loss=2.02e+3, measure=34.1]\n",
      "Epoch 99/500: 100%|█████████████████████████████████████████| 17/17 [00:00<00:00, 138.21it/s, loss=2.45e+3, measure=34]\n",
      "Epoch 100/500: 100%|██████████████████████████████████████| 17/17 [00:00<00:00, 126.86it/s, loss=6.69e+3, measure=49.5]\n",
      "Epoch 101/500: 100%|██████████████████████████████████████| 17/17 [00:00<00:00, 127.21it/s, loss=3.88e+3, measure=40.7]\n",
      "Epoch 102/500: 100%|██████████████████████████████████████| 17/17 [00:00<00:00, 131.75it/s, loss=4.55e+3, measure=40.7]\n",
      "Epoch 103/500: 100%|██████████████████████████████████████████| 17/17 [00:00<00:00, 130.77it/s, loss=881, measure=24.3]\n",
      "Epoch 104/500: 100%|████████████████████████████████████████| 17/17 [00:00<00:00, 125.45it/s, loss=1.06e+3, measure=28]\n",
      "Epoch 105/500: 100%|███████████████████████████████████████| 17/17 [00:00<00:00, 131.22it/s, loss=7.4e+3, measure=40.7]\n",
      "Epoch 106/500: 100%|██████████████████████████████████████| 17/17 [00:00<00:00, 131.78it/s, loss=6.47e+3, measure=46.7]\n",
      "Epoch 107/500: 100%|██████████████████████████████████████| 17/17 [00:00<00:00, 118.03it/s, loss=2.64e+3, measure=36.8]\n",
      "Epoch 108/500: 100%|██████████████████████████████████████| 17/17 [00:00<00:00, 128.29it/s, loss=1.84e+3, measure=33.7]\n",
      "Epoch 109/500: 100%|██████████████████████████████████████| 17/17 [00:00<00:00, 132.81it/s, loss=4.17e+3, measure=38.8]\n",
      "Epoch 110/500: 100%|██████████████████████████████████████| 17/17 [00:00<00:00, 128.79it/s, loss=4.04e+3, measure=34.2]\n",
      "Epoch 111/500: 100%|████████████████████████████████████████| 17/17 [00:00<00:00, 126.87it/s, loss=5.28e+3, measure=47]\n",
      "Epoch 112/500: 100%|██████████████████████████████████████████| 17/17 [00:00<00:00, 129.77it/s, loss=952, measure=23.3]\n",
      "Epoch 113/500: 100%|██████████████████████████████████████| 17/17 [00:00<00:00, 124.98it/s, loss=7.47e+3, measure=47.8]\n",
      "Epoch 114/500: 100%|██████████████████████████████████████| 17/17 [00:00<00:00, 126.89it/s, loss=3.81e+3, measure=37.3]\n",
      "Epoch 115/500: 100%|████████████████████████████████████████████| 17/17 [00:00<00:00, 126.39it/s, loss=890, measure=23]\n",
      "Epoch 116/500: 100%|██████████████████████████████████████| 17/17 [00:00<00:00, 118.88it/s, loss=2.08e+3, measure=31.3]\n",
      "Epoch 117/500: 100%|██████████████████████████████████████| 17/17 [00:00<00:00, 124.98it/s, loss=3.39e+3, measure=37.3]\n",
      "Epoch 118/500: 100%|██████████████████████████████████████| 17/17 [00:00<00:00, 127.32it/s, loss=6.66e+3, measure=44.6]\n",
      "Epoch 119/500: 100%|██████████████████████████████████████| 17/17 [00:00<00:00, 111.11it/s, loss=3.51e+3, measure=37.4]\n",
      "Epoch 120/500: 100%|██████████████████████████████████████| 17/17 [00:00<00:00, 126.86it/s, loss=2.28e+3, measure=34.6]\n",
      "Epoch 121/500: 100%|██████████████████████████████████████| 17/17 [00:00<00:00, 124.09it/s, loss=3.31e+3, measure=40.3]\n",
      "Epoch 122/500: 100%|██████████████████████████████████████| 17/17 [00:00<00:00, 121.40it/s, loss=3.54e+3, measure=29.5]\n",
      "Epoch 123/500: 100%|██████████████████████████████████████| 17/17 [00:00<00:00, 125.92it/s, loss=1.08e+3, measure=22.7]\n",
      "Epoch 124/500: 100%|██████████████████████████████████████| 17/17 [00:00<00:00, 135.41it/s, loss=9.01e+3, measure=49.7]\n",
      "Epoch 125/500: 100%|██████████████████████████████████████████| 17/17 [00:00<00:00, 132.81it/s, loss=603, measure=21.9]\n",
      "Epoch 126/500: 100%|██████████████████████████████████████| 17/17 [00:00<00:00, 128.79it/s, loss=1.87e+3, measure=29.6]\n",
      "Epoch 127/500: 100%|██████████████████████████████████████| 17/17 [00:00<00:00, 129.77it/s, loss=2.42e+3, measure=30.6]\n",
      "Epoch 128/500: 100%|██████████████████████████████████████████| 17/17 [00:00<00:00, 133.86it/s, loss=782, measure=24.2]\n",
      "Epoch 129/500: 100%|██████████████████████████████████████| 17/17 [00:00<00:00, 130.77it/s, loss=2.99e+3, measure=34.8]\n",
      "Epoch 130/500: 100%|██████████████████████████████████████| 17/17 [00:00<00:00, 127.82it/s, loss=1.11e+3, measure=27.4]\n",
      "Epoch 131/500: 100%|██████████████████████████████████████| 17/17 [00:00<00:00, 128.79it/s, loss=6.82e+3, measure=45.7]\n",
      "Epoch 132/500: 100%|██████████████████████████████████████| 17/17 [00:00<00:00, 124.97it/s, loss=2.39e+3, measure=36.4]\n",
      "Epoch 133/500: 100%|██████████████████████████████████████| 17/17 [00:00<00:00, 128.29it/s, loss=2.11e+3, measure=28.9]\n",
      "Epoch 134/500: 100%|██████████████████████████████████████| 17/17 [00:00<00:00, 120.58it/s, loss=6.17e+3, measure=39.4]\n",
      "Epoch 135/500: 100%|██████████████████████████████████████| 17/17 [00:00<00:00, 123.19it/s, loss=4.61e+3, measure=42.2]\n",
      "Epoch 136/500: 100%|██████████████████████████████████████| 17/17 [00:00<00:00, 133.17it/s, loss=5.82e+3, measure=42.5]\n",
      "Epoch 137/500: 100%|████████████████████████████████████████| 17/17 [00:00<00:00, 128.48it/s, loss=1.42e+3, measure=28]\n",
      "Epoch 138/500: 100%|██████████████████████████████████████| 17/17 [00:00<00:00, 121.43it/s, loss=3.26e+3, measure=34.4]\n",
      "Epoch 139/500: 100%|██████████████████████████████████████| 17/17 [00:00<00:00, 126.39it/s, loss=1.74e+3, measure=24.7]\n",
      "Epoch 140/500: 100%|██████████████████████████████████████| 17/17 [00:00<00:00, 130.25it/s, loss=3.88e+3, measure=38.8]\n",
      "Epoch 141/500: 100%|██████████████████████████████████████| 17/17 [00:00<00:00, 127.82it/s, loss=1.74e+3, measure=27.8]\n",
      "Epoch 142/500: 100%|██████████████████████████████████████| 17/17 [00:00<00:00, 129.67it/s, loss=1.17e+4, measure=49.7]\n",
      "Epoch 143/500: 100%|██████████████████████████████████████| 17/17 [00:00<00:00, 123.62it/s, loss=7.55e+3, measure=47.5]\n",
      "Epoch 144/500: 100%|██████████████████████████████████████| 17/17 [00:00<00:00, 124.09it/s, loss=2.72e+3, measure=40.4]\n",
      "Epoch 145/500: 100%|██████████████████████████████████████| 17/17 [00:00<00:00, 126.86it/s, loss=1.09e+3, measure=27.1]\n",
      "Epoch 146/500: 100%|██████████████████████████████████████| 17/17 [00:00<00:00, 125.89it/s, loss=5.48e+3, measure=43.8]\n",
      "Epoch 147/500: 100%|██████████████████████████████████████| 17/17 [00:00<00:00, 128.79it/s, loss=2.27e+3, measure=36.6]\n",
      "Epoch 148/500: 100%|██████████████████████████████████████| 17/17 [00:00<00:00, 127.82it/s, loss=4.94e+3, measure=44.8]\n",
      "Epoch 149/500: 100%|██████████████████████████████████████| 17/17 [00:00<00:00, 116.42it/s, loss=1.78e+3, measure=28.2]\n",
      "Epoch 150/500: 100%|██████████████████████████████████████| 17/17 [00:00<00:00, 124.09it/s, loss=1.36e+3, measure=27.2]\n",
      "Epoch 151/500: 100%|██████████████████████████████████████| 17/17 [00:00<00:00, 120.57it/s, loss=3.77e+3, measure=32.9]\n",
      "Epoch 152/500: 100%|██████████████████████████████████████| 17/17 [00:00<00:00, 115.22it/s, loss=1.17e+3, measure=29.1]\n",
      "Epoch 153/500: 100%|██████████████████████████████████████| 17/17 [00:00<00:00, 124.09it/s, loss=2.45e+3, measure=35.1]\n",
      "Epoch 154/500: 100%|██████████████████████████████████████| 17/17 [00:00<00:00, 129.26it/s, loss=2.68e+3, measure=30.1]\n",
      "Epoch 155/500: 100%|██████████████████████████████████████| 17/17 [00:00<00:00, 121.43it/s, loss=2.23e+3, measure=29.2]\n",
      "Epoch 156/500: 100%|██████████████████████████████████████| 17/17 [00:00<00:00, 126.87it/s, loss=4.65e+3, measure=41.1]\n",
      "Epoch 157/500: 100%|██████████████████████████████████████| 17/17 [00:00<00:00, 132.81it/s, loss=2.01e+3, measure=31.9]\n",
      "Epoch 158/500: 100%|██████████████████████████████████████| 17/17 [00:00<00:00, 113.33it/s, loss=2.19e+3, measure=30.3]\n",
      "Epoch 159/500: 100%|██████████████████████████████████████| 17/17 [00:00<00:00, 130.77it/s, loss=1.71e+3, measure=34.8]\n",
      "Epoch 160/500: 100%|██████████████████████████████████████████| 17/17 [00:00<00:00, 126.87it/s, loss=765, measure=22.1]\n",
      "Epoch 161/500: 100%|██████████████████████████████████████| 17/17 [00:00<00:00, 122.30it/s, loss=8.81e+3, measure=47.3]\n",
      "Epoch 162/500: 100%|██████████████████████████████████████████| 17/17 [00:00<00:00, 123.14it/s, loss=776, measure=24.8]\n",
      "Epoch 163/500: 100%|██████████████████████████████████████| 17/17 [00:00<00:00, 125.00it/s, loss=3.26e+3, measure=39.8]\n",
      "Epoch 164/500: 100%|██████████████████████████████████████| 17/17 [00:00<00:00, 132.81it/s, loss=1.62e+3, measure=32.4]\n",
      "Epoch 165/500: 100%|██████████████████████████████████████| 17/17 [00:00<00:00, 125.00it/s, loss=4.82e+3, measure=41.5]\n",
      "Epoch 166/500: 100%|██████████████████████████████████████| 17/17 [00:00<00:00, 118.87it/s, loss=1.06e+3, measure=25.1]\n",
      "Epoch 167/500: 100%|██████████████████████████████████████████| 17/17 [00:00<00:00, 127.82it/s, loss=805, measure=23.4]\n",
      "Epoch 168/500: 100%|████████████████████████████████████████| 17/17 [00:00<00:00, 130.77it/s, loss=7.92e+3, measure=50]\n",
      "Epoch 169/500: 100%|██████████████████████████████████████| 17/17 [00:00<00:00, 122.30it/s, loss=3.27e+3, measure=41.1]\n",
      "Epoch 170/500: 100%|████████████████████████████████████████| 17/17 [00:00<00:00, 129.77it/s, loss=8.62e+3, measure=61]\n",
      "Epoch 171/500: 100%|██████████████████████████████████████| 17/17 [00:00<00:00, 125.00it/s, loss=1.18e+3, measure=23.5]\n",
      "Epoch 172/500: 100%|████████████████████████████████████████| 17/17 [00:00<00:00, 128.76it/s, loss=1.02e+3, measure=26]\n",
      "Epoch 173/500: 100%|██████████████████████████████████████| 17/17 [00:00<00:00, 125.00it/s, loss=6.66e+3, measure=47.6]\n",
      "Epoch 174/500: 100%|██████████████████████████████████████| 17/17 [00:00<00:00, 128.29it/s, loss=2.12e+3, measure=32.7]\n",
      "Epoch 175/500: 100%|██████████████████████████████████████| 17/17 [00:00<00:00, 122.21it/s, loss=5.39e+3, measure=43.2]\n",
      "Epoch 176/500: 100%|██████████████████████████████████████| 17/17 [00:00<00:00, 127.82it/s, loss=2.84e+3, measure=32.7]\n",
      "Epoch 177/500: 100%|██████████████████████████████████████| 17/17 [00:00<00:00, 121.85it/s, loss=3.24e+3, measure=39.2]\n",
      "Epoch 178/500: 100%|██████████████████████████████████████| 17/17 [00:00<00:00, 123.60it/s, loss=4.34e+3, measure=37.6]\n",
      "Epoch 179/500: 100%|██████████████████████████████████████████| 17/17 [00:00<00:00, 125.00it/s, loss=706, measure=23.8]\n",
      "Epoch 180/500: 100%|██████████████████████████████████████| 17/17 [00:00<00:00, 123.19it/s, loss=3.63e+3, measure=41.8]\n",
      "Epoch 181/500: 100%|██████████████████████████████████████| 17/17 [00:00<00:00, 118.87it/s, loss=2.38e+3, measure=29.3]\n",
      "Epoch 182/500: 100%|████████████████████████████████████████| 17/17 [00:00<00:00, 118.06it/s, loss=2.83e+3, measure=39]\n",
      "Epoch 183/500: 100%|██████████████████████████████████████| 17/17 [00:00<00:00, 128.28it/s, loss=1.99e+3, measure=35.2]\n",
      "Epoch 184/500: 100%|██████████████████████████████████████| 17/17 [00:00<00:00, 123.19it/s, loss=1.89e+3, measure=28.9]\n",
      "Epoch 185/500: 100%|██████████████████████████████████████████| 17/17 [00:00<00:00, 131.78it/s, loss=803, measure=22.8]\n",
      "Epoch 186/500: 100%|██████████████████████████████████████| 17/17 [00:00<00:00, 124.98it/s, loss=2.39e+3, measure=32.5]\n",
      "Epoch 187/500: 100%|██████████████████████████████████████████| 17/17 [00:00<00:00, 130.77it/s, loss=814, measure=24.5]\n",
      "Epoch 188/500: 100%|███████████████████████████████████████| 17/17 [00:00<00:00, 119.72it/s, loss=3.2e+3, measure=31.5]\n",
      "Epoch 189/500: 100%|██████████████████████████████████████| 17/17 [00:00<00:00, 127.82it/s, loss=3.52e+3, measure=35.5]\n",
      "Epoch 190/500: 100%|██████████████████████████████████████| 17/17 [00:00<00:00, 128.79it/s, loss=1.25e+3, measure=28.3]\n",
      "Epoch 191/500: 100%|███████████████████████████████████████| 17/17 [00:00<00:00, 123.79it/s, loss=5.7e+3, measure=47.3]\n",
      "Epoch 192/500: 100%|██████████████████████████████████████| 17/17 [00:00<00:00, 125.90it/s, loss=1.42e+4, measure=62.2]\n",
      "Epoch 193/500: 100%|██████████████████████████████████████| 17/17 [00:00<00:00, 124.08it/s, loss=1.19e+3, measure=25.8]\n",
      "Epoch 194/500: 100%|██████████████████████████████████████| 17/17 [00:00<00:00, 125.93it/s, loss=3.37e+3, measure=37.4]\n",
      "Epoch 195/500: 100%|██████████████████████████████████████| 17/17 [00:00<00:00, 128.79it/s, loss=7.08e+3, measure=48.9]\n",
      "Epoch 196/500: 100%|██████████████████████████████████████████| 17/17 [00:00<00:00, 120.99it/s, loss=857, measure=24.2]\n",
      "Epoch 197/500: 100%|██████████████████████████████████████████| 17/17 [00:00<00:00, 126.87it/s, loss=469, measure=18.9]\n",
      "Epoch 198/500: 100%|██████████████████████████████████████| 17/17 [00:00<00:00, 123.62it/s, loss=5.66e+3, measure=43.5]\n",
      "Epoch 199/500: 100%|██████████████████████████████████████| 17/17 [00:00<00:00, 124.09it/s, loss=6.04e+3, measure=37.7]\n",
      "Epoch 200/500: 100%|███████████████████████████████████████| 17/17 [00:00<00:00, 128.79it/s, loss=1.1e+3, measure=27.8]\n",
      "Epoch 201/500: 100%|████████████████████████████████████████| 17/17 [00:00<00:00, 125.00it/s, loss=1.29e+3, measure=28]\n",
      "Epoch 202/500: 100%|████████████████████████████████████████| 17/17 [00:00<00:00, 128.75it/s, loss=4.26e+3, measure=37]\n",
      "Epoch 203/500: 100%|████████████████████████████████████████| 17/17 [00:00<00:00, 126.37it/s, loss=1.32e+3, measure=29]\n",
      "Epoch 204/500: 100%|██████████████████████████████████████| 17/17 [00:00<00:00, 130.77it/s, loss=2.86e+3, measure=32.6]\n",
      "Epoch 205/500: 100%|██████████████████████████████████████| 17/17 [00:00<00:00, 125.00it/s, loss=2.41e+3, measure=34.8]\n",
      "Epoch 206/500: 100%|██████████████████████████████████████| 17/17 [00:00<00:00, 119.72it/s, loss=1.17e+4, measure=62.6]\n",
      "Epoch 207/500: 100%|██████████████████████████████████████| 17/17 [00:00<00:00, 118.06it/s, loss=1.25e+3, measure=29.2]\n",
      "Epoch 208/500: 100%|██████████████████████████████████████| 17/17 [00:00<00:00, 119.70it/s, loss=3.66e+3, measure=38.3]\n",
      "Epoch 209/500: 100%|██████████████████████████████████████| 17/17 [00:00<00:00, 118.69it/s, loss=1.91e+3, measure=27.4]\n",
      "Epoch 210/500: 100%|██████████████████████████████████████| 17/17 [00:00<00:00, 121.84it/s, loss=1.78e+3, measure=29.5]\n",
      "Epoch 211/500: 100%|██████████████████████████████████████| 17/17 [00:00<00:00, 126.86it/s, loss=3.61e+3, measure=32.2]\n",
      "Epoch 212/500: 100%|██████████████████████████████████████| 17/17 [00:00<00:00, 122.26it/s, loss=3.65e+3, measure=40.3]\n",
      "Epoch 213/500: 100%|██████████████████████████████████████| 17/17 [00:00<00:00, 125.45it/s, loss=1.77e+3, measure=30.8]\n",
      "Epoch 214/500: 100%|██████████████████████████████████████| 17/17 [00:00<00:00, 124.49it/s, loss=1.91e+3, measure=35.8]\n",
      "Epoch 215/500: 100%|██████████████████████████████████████████| 17/17 [00:00<00:00, 126.83it/s, loss=807, measure=23.5]\n",
      "Epoch 216/500: 100%|██████████████████████████████████████| 17/17 [00:00<00:00, 125.00it/s, loss=2.23e+3, measure=30.6]\n",
      "Epoch 217/500: 100%|███████████████████████████████████████| 17/17 [00:00<00:00, 128.75it/s, loss=7.2e+3, measure=44.9]\n",
      "Epoch 218/500: 100%|████████████████████████████████████████| 17/17 [00:00<00:00, 124.09it/s, loss=3.18e+3, measure=37]\n",
      "Epoch 219/500: 100%|██████████████████████████████████████| 17/17 [00:00<00:00, 129.77it/s, loss=3.69e+3, measure=38.5]\n",
      "Epoch 220/500: 100%|██████████████████████████████████████| 17/17 [00:00<00:00, 127.82it/s, loss=5.44e+3, measure=42.4]\n",
      "Epoch 221/500: 100%|██████████████████████████████████████| 17/17 [00:00<00:00, 122.30it/s, loss=4.59e+3, measure=45.7]\n",
      "Epoch 222/500: 100%|██████████████████████████████████████| 17/17 [00:00<00:00, 124.54it/s, loss=1.69e+3, measure=31.5]\n",
      "Epoch 223/500: 100%|█████████████████████████████████████████| 17/17 [00:00<00:00, 126.86it/s, loss=7e+3, measure=45.7]\n",
      "Epoch 224/500: 100%|██████████████████████████████████████| 17/17 [00:00<00:00, 115.64it/s, loss=4.39e+3, measure=44.1]\n",
      "Epoch 225/500: 100%|██████████████████████████████████████████| 17/17 [00:00<00:00, 118.86it/s, loss=699, measure=22.4]\n",
      "Epoch 226/500: 100%|██████████████████████████████████████| 17/17 [00:00<00:00, 115.62it/s, loss=3.46e+3, measure=35.9]\n",
      "Epoch 227/500: 100%|██████████████████████████████████████| 17/17 [00:00<00:00, 120.99it/s, loss=3.58e+3, measure=40.8]\n",
      "Epoch 228/500: 100%|██████████████████████████████████████| 17/17 [00:00<00:00, 117.24it/s, loss=3.71e+3, measure=39.1]\n",
      "Epoch 229/500: 100%|██████████████████████████████████████| 17/17 [00:00<00:00, 129.77it/s, loss=6.94e+3, measure=45.4]\n",
      "Epoch 230/500: 100%|██████████████████████████████████████████| 17/17 [00:00<00:00, 118.06it/s, loss=899, measure=25.5]\n",
      "Epoch 231/500: 100%|██████████████████████████████████████| 17/17 [00:00<00:00, 114.07it/s, loss=8.03e+3, measure=43.5]\n",
      "Epoch 232/500: 100%|██████████████████████████████████████| 17/17 [00:00<00:00, 124.53it/s, loss=1.32e+3, measure=29.5]\n",
      "Epoch 233/500: 100%|██████████████████████████████████████| 17/17 [00:00<00:00, 125.92it/s, loss=7.91e+3, measure=51.7]\n",
      "Epoch 234/500: 100%|██████████████████████████████████████████| 17/17 [00:00<00:00, 123.19it/s, loss=939, measure=25.3]\n",
      "Epoch 235/500: 100%|██████████████████████████████████████| 17/17 [00:00<00:00, 122.30it/s, loss=7.32e+3, measure=45.2]\n",
      "Epoch 236/500: 100%|██████████████████████████████████████████| 17/17 [00:00<00:00, 124.09it/s, loss=438, measure=18.4]\n",
      "Epoch 237/500: 100%|██████████████████████████████████████| 17/17 [00:00<00:00, 124.09it/s, loss=2.93e+3, measure=33.3]\n",
      "Epoch 238/500: 100%|██████████████████████████████████████| 17/17 [00:00<00:00, 123.19it/s, loss=1.19e+3, measure=25.7]\n",
      "Epoch 239/500: 100%|██████████████████████████████████████| 17/17 [00:00<00:00, 129.77it/s, loss=3.88e+3, measure=36.1]\n",
      "Epoch 240/500: 100%|██████████████████████████████████████| 17/17 [00:00<00:00, 125.44it/s, loss=1.91e+3, measure=32.1]\n",
      "Epoch 241/500: 100%|██████████████████████████████████████| 17/17 [00:00<00:00, 128.76it/s, loss=2.51e+3, measure=35.9]\n",
      "Epoch 242/500: 100%|██████████████████████████████████████| 17/17 [00:00<00:00, 118.45it/s, loss=1.04e+3, measure=27.3]\n",
      "Epoch 243/500: 100%|███████████████████████████████████████| 17/17 [00:00<00:00, 126.86it/s, loss=3.1e+3, measure=35.2]\n",
      "Epoch 244/500: 100%|█████████████████████████████████████████| 17/17 [00:00<00:00, 118.88it/s, loss=1.2e+4, measure=58]\n",
      "Epoch 245/500: 100%|██████████████████████████████████████| 17/17 [00:00<00:00, 114.87it/s, loss=1.04e+3, measure=27.7]\n",
      "Epoch 246/500: 100%|██████████████████████████████████████| 17/17 [00:00<00:00, 122.30it/s, loss=1.75e+3, measure=28.9]\n",
      "Epoch 247/500: 100%|██████████████████████████████████████| 17/17 [00:00<00:00, 124.09it/s, loss=6.04e+3, measure=37.9]\n",
      "Epoch 248/500: 100%|████████████████████████████████████████| 17/17 [00:00<00:00, 101.80it/s, loss=3.56e+3, measure=35]\n",
      "Epoch 249/500: 100%|███████████████████████████████████████| 17/17 [00:00<00:00, 97.10it/s, loss=2.92e+3, measure=33.9]\n",
      "Epoch 250/500: 100%|██████████████████████████████████████| 17/17 [00:00<00:00, 105.57it/s, loss=7.01e+3, measure=48.8]\n",
      "Epoch 251/500: 100%|██████████████████████████████████████| 17/17 [00:00<00:00, 113.70it/s, loss=2.77e+3, measure=33.8]\n",
      "Epoch 252/500: 100%|██████████████████████████████████████| 17/17 [00:00<00:00, 121.43it/s, loss=5.28e+3, measure=47.4]\n",
      "Epoch 253/500: 100%|██████████████████████████████████████| 17/17 [00:00<00:00, 125.92it/s, loss=6.54e+3, measure=40.1]\n",
      "Epoch 254/500: 100%|██████████████████████████████████████| 17/17 [00:00<00:00, 129.77it/s, loss=3.08e+3, measure=32.4]\n",
      "Epoch 255/500: 100%|██████████████████████████████████████| 17/17 [00:00<00:00, 129.77it/s, loss=3.06e+3, measure=35.8]\n",
      "Epoch 256/500: 100%|██████████████████████████████████████| 17/17 [00:00<00:00, 129.77it/s, loss=5.58e+3, measure=44.6]\n",
      "Epoch 257/500: 100%|██████████████████████████████████████| 17/17 [00:00<00:00, 123.19it/s, loss=4.11e+3, measure=42.4]\n",
      "Epoch 258/500: 100%|██████████████████████████████████████████| 17/17 [00:00<00:00, 131.46it/s, loss=986, measure=25.7]\n",
      "Epoch 259/500: 100%|██████████████████████████████████████| 17/17 [00:00<00:00, 117.24it/s, loss=1.35e+3, measure=29.4]\n",
      "Epoch 260/500: 100%|██████████████████████████████████████| 17/17 [00:00<00:00, 126.38it/s, loss=7.47e+3, measure=52.1]\n",
      "Epoch 261/500: 100%|███████████████████████████████████████| 17/17 [00:00<00:00, 125.93it/s, loss=1.6e+3, measure=32.7]\n",
      "Epoch 262/500: 100%|██████████████████████████████████████| 17/17 [00:00<00:00, 124.09it/s, loss=5.03e+3, measure=36.1]\n",
      "Epoch 263/500: 100%|██████████████████████████████████████| 17/17 [00:00<00:00, 121.43it/s, loss=1.93e+3, measure=28.5]\n",
      "Epoch 264/500: 100%|██████████████████████████████████████████| 17/17 [00:00<00:00, 125.93it/s, loss=748, measure=23.9]\n",
      "Epoch 265/500: 100%|████████████████████████████████████████| 17/17 [00:00<00:00, 133.86it/s, loss=1.07e+3, measure=27]\n",
      "Epoch 266/500: 100%|██████████████████████████████████████| 17/17 [00:00<00:00, 120.20it/s, loss=5.84e+3, measure=41.7]\n",
      "Epoch 267/500: 100%|██████████████████████████████████████████| 17/17 [00:00<00:00, 125.93it/s, loss=939, measure=24.1]\n",
      "Epoch 268/500: 100%|██████████████████████████████████████| 17/17 [00:00<00:00, 121.43it/s, loss=2.81e+3, measure=33.2]\n",
      "Epoch 269/500: 100%|███████████████████████████████████████| 17/17 [00:00<00:00, 124.11it/s, loss=8.3e+3, measure=48.5]\n",
      "Epoch 270/500: 100%|███████████████████████████████████████| 17/17 [00:00<00:00, 108.28it/s, loss=2.2e+3, measure=34.7]\n",
      "Epoch 271/500: 100%|██████████████████████████████████████| 17/17 [00:00<00:00, 103.03it/s, loss=5.61e+3, measure=34.3]\n",
      "Epoch 272/500: 100%|██████████████████████████████████████| 17/17 [00:00<00:00, 106.25it/s, loss=2.43e+3, measure=28.8]\n",
      "Epoch 273/500: 100%|██████████████████████████████████████| 17/17 [00:00<00:00, 119.72it/s, loss=5.59e+3, measure=44.5]\n",
      "Epoch 274/500: 100%|██████████████████████████████████████| 17/17 [00:00<00:00, 119.72it/s, loss=1.24e+3, measure=28.2]\n",
      "Epoch 275/500: 100%|██████████████████████████████████████| 17/17 [00:00<00:00, 124.08it/s, loss=3.05e+3, measure=32.4]\n",
      "Epoch 276/500: 100%|██████████████████████████████████████| 17/17 [00:00<00:00, 125.93it/s, loss=3.18e+3, measure=45.2]\n",
      "Epoch 277/500: 100%|████████████████████████████████████████████| 17/17 [00:00<00:00, 115.65it/s, loss=492, measure=20]\n",
      "Epoch 278/500: 100%|██████████████████████████████████████| 17/17 [00:00<00:00, 122.30it/s, loss=4.07e+3, measure=43.1]\n",
      "Epoch 279/500: 100%|██████████████████████████████████████| 17/17 [00:00<00:00, 120.21it/s, loss=1.08e+3, measure=26.8]\n",
      "Epoch 280/500: 100%|█████████████████████████████████████████| 17/17 [00:00<00:00, 123.19it/s, loss=1.9e+3, measure=34]\n",
      "Epoch 281/500: 100%|██████████████████████████████████████| 17/17 [00:00<00:00, 123.19it/s, loss=2.05e+3, measure=33.6]\n",
      "Epoch 282/500: 100%|██████████████████████████████████████| 17/17 [00:00<00:00, 124.83it/s, loss=1.87e+3, measure=31.4]\n",
      "Epoch 283/500: 100%|██████████████████████████████████████| 17/17 [00:00<00:00, 120.57it/s, loss=3.72e+3, measure=42.8]\n",
      "Epoch 284/500: 100%|██████████████████████████████████████| 17/17 [00:00<00:00, 119.20it/s, loss=4.73e+3, measure=33.6]\n",
      "Epoch 285/500: 100%|██████████████████████████████████████| 17/17 [00:00<00:00, 124.09it/s, loss=1.26e+4, measure=61.9]\n",
      "Epoch 286/500: 100%|████████████████████████████████████████| 17/17 [00:00<00:00, 120.57it/s, loss=1.88e+3, measure=24]\n",
      "Epoch 287/500: 100%|██████████████████████████████████████| 17/17 [00:00<00:00, 123.19it/s, loss=3.02e+3, measure=39.1]\n",
      "Epoch 288/500: 100%|████████████████████████████████████████| 17/17 [00:00<00:00, 114.08it/s, loss=3.88e+3, measure=43]\n",
      "Epoch 289/500: 100%|██████████████████████████████████████| 17/17 [00:00<00:00, 122.30it/s, loss=4.92e+3, measure=42.1]\n",
      "Epoch 290/500: 100%|██████████████████████████████████████| 17/17 [00:00<00:00, 122.28it/s, loss=2.59e+3, measure=33.1]\n",
      "Epoch 291/500: 100%|██████████████████████████████████████| 17/17 [00:00<00:00, 118.88it/s, loss=1.39e+3, measure=27.5]\n",
      "Epoch 292/500: 100%|████████████████████████████████████████████| 17/17 [00:00<00:00, 115.65it/s, loss=863, measure=25]\n",
      "Epoch 293/500: 100%|███████████████████████████████████████| 17/17 [00:00<00:00, 124.96it/s, loss=4.1e+3, measure=44.1]\n",
      "Epoch 294/500: 100%|██████████████████████████████████████| 17/17 [00:00<00:00, 114.41it/s, loss=4.67e+3, measure=44.2]\n",
      "Epoch 295/500: 100%|███████████████████████████████████████| 17/17 [00:00<00:00, 115.64it/s, loss=1.4e+4, measure=66.7]\n",
      "Epoch 296/500: 100%|██████████████████████████████████████████| 17/17 [00:00<00:00, 113.33it/s, loss=862, measure=26.2]\n",
      "Epoch 297/500: 100%|██████████████████████████████████████████| 17/17 [00:00<00:00, 113.33it/s, loss=530, measure=20.5]\n",
      "Epoch 298/500: 100%|██████████████████████████████████████████| 17/17 [00:00<00:00, 109.66it/s, loss=611, measure=22.6]\n",
      "Epoch 299/500: 100%|██████████████████████████████████████| 17/17 [00:00<00:00, 115.64it/s, loss=3.96e+3, measure=41.1]\n",
      "Epoch 300/500: 100%|███████████████████████████████████████| 17/17 [00:00<00:00, 118.88it/s, loss=7.1e+3, measure=50.5]\n",
      "Epoch 301/500: 100%|██████████████████████████████████████| 17/17 [00:00<00:00, 118.06it/s, loss=1.83e+3, measure=31.3]\n",
      "Epoch 302/500: 100%|██████████████████████████████████████| 17/17 [00:00<00:00, 118.88it/s, loss=1.36e+3, measure=26.3]\n",
      "Epoch 303/500: 100%|███████████████████████████████████████| 17/17 [00:00<00:00, 122.30it/s, loss=1.2e+3, measure=24.7]\n",
      "Epoch 304/500: 100%|██████████████████████████████████████| 17/17 [00:00<00:00, 127.82it/s, loss=2.45e+3, measure=35.2]\n",
      "Epoch 305/500: 100%|██████████████████████████████████████| 17/17 [00:00<00:00, 121.43it/s, loss=4.58e+3, measure=43.4]\n",
      "Epoch 306/500: 100%|████████████████████████████████████████████| 17/17 [00:00<00:00, 125.93it/s, loss=590, measure=23]\n",
      "Epoch 307/500: 100%|██████████████████████████████████████| 17/17 [00:00<00:00, 120.50it/s, loss=1.28e+3, measure=30.4]\n",
      "Epoch 308/500: 100%|██████████████████████████████████████| 17/17 [00:00<00:00, 118.88it/s, loss=1.58e+3, measure=26.8]\n",
      "Epoch 309/500: 100%|██████████████████████████████████████| 17/17 [00:00<00:00, 117.63it/s, loss=1.37e+3, measure=29.6]\n",
      "Epoch 310/500: 100%|████████████████████████████████████████████| 17/17 [00:00<00:00, 123.19it/s, loss=777, measure=22]\n",
      "Epoch 311/500: 100%|██████████████████████████████████████████| 17/17 [00:00<00:00, 125.00it/s, loss=932, measure=24.9]\n",
      "Epoch 312/500: 100%|██████████████████████████████████████| 17/17 [00:00<00:00, 122.30it/s, loss=1.12e+4, measure=60.6]\n",
      "Epoch 313/500: 100%|████████████████████████████████████████| 17/17 [00:00<00:00, 122.25it/s, loss=5.55e+3, measure=39]\n",
      "Epoch 314/500: 100%|██████████████████████████████████████| 17/17 [00:00<00:00, 126.87it/s, loss=4.67e+3, measure=40.9]\n",
      "Epoch 315/500: 100%|██████████████████████████████████████| 17/17 [00:00<00:00, 119.19it/s, loss=8.54e+3, measure=51.6]\n",
      "Epoch 316/500: 100%|████████████████████████████████████████| 17/17 [00:00<00:00, 115.65it/s, loss=2.09e+3, measure=34]\n",
      "Epoch 317/500: 100%|██████████████████████████████████████| 17/17 [00:00<00:00, 118.05it/s, loss=1.08e+3, measure=25.9]\n",
      "Epoch 318/500: 100%|████████████████████████████████████████| 17/17 [00:00<00:00, 121.99it/s, loss=3.83e+3, measure=37]\n",
      "Epoch 319/500: 100%|██████████████████████████████████████| 17/17 [00:00<00:00, 123.59it/s, loss=2.69e+3, measure=30.1]\n",
      "Epoch 320/500: 100%|██████████████████████████████████████████| 17/17 [00:00<00:00, 117.24it/s, loss=642, measure=22.4]\n",
      "Epoch 321/500: 100%|██████████████████████████████████████| 17/17 [00:00<00:00, 125.00it/s, loss=5.18e+3, measure=30.9]\n",
      "Epoch 322/500: 100%|██████████████████████████████████████| 17/17 [00:00<00:00, 119.72it/s, loss=5.02e+3, measure=38.1]\n",
      "Epoch 323/500: 100%|██████████████████████████████████████████| 17/17 [00:00<00:00, 127.82it/s, loss=825, measure=25.8]\n",
      "Epoch 324/500: 100%|████████████████████████████████████████| 17/17 [00:00<00:00, 116.44it/s, loss=5.32e+3, measure=40]\n",
      "Epoch 325/500: 100%|██████████████████████████████████████| 17/17 [00:00<00:00, 127.82it/s, loss=1.28e+3, measure=25.5]\n",
      "Epoch 326/500: 100%|██████████████████████████████████████████| 17/17 [00:00<00:00, 118.97it/s, loss=891, measure=25.4]\n",
      "Epoch 327/500: 100%|████████████████████████████████████████| 17/17 [00:00<00:00, 128.79it/s, loss=1.21e+3, measure=27]\n",
      "Epoch 328/500: 100%|███████████████████████████████████████| 17/17 [00:00<00:00, 123.91it/s, loss=4.8e+3, measure=33.9]\n",
      "Epoch 329/500: 100%|██████████████████████████████████████| 17/17 [00:00<00:00, 118.88it/s, loss=7.52e+3, measure=49.6]\n",
      "Epoch 330/500: 100%|██████████████████████████████████████| 17/17 [00:00<00:00, 122.30it/s, loss=4.72e+3, measure=43.5]\n",
      "Epoch 331/500: 100%|██████████████████████████████████████| 17/17 [00:00<00:00, 119.72it/s, loss=2.74e+3, measure=31.2]\n",
      "Epoch 332/500: 100%|██████████████████████████████████████| 17/17 [00:00<00:00, 123.19it/s, loss=2.04e+3, measure=30.3]\n",
      "Epoch 333/500: 100%|██████████████████████████████████████| 17/17 [00:00<00:00, 118.06it/s, loss=3.88e+3, measure=34.3]\n",
      "Epoch 334/500: 100%|██████████████████████████████████████| 17/17 [00:00<00:00, 118.88it/s, loss=2.21e+3, measure=32.6]\n",
      "Epoch 335/500: 100%|██████████████████████████████████████| 17/17 [00:00<00:00, 125.00it/s, loss=5.66e+3, measure=43.3]\n",
      "Epoch 336/500: 100%|████████████████████████████████████████| 17/17 [00:00<00:00, 113.33it/s, loss=6.07e+3, measure=46]\n",
      "Epoch 337/500: 100%|██████████████████████████████████████| 17/17 [00:00<00:00, 125.00it/s, loss=5.56e+3, measure=42.8]\n",
      "Epoch 338/500: 100%|██████████████████████████████████████| 17/17 [00:00<00:00, 120.57it/s, loss=2.98e+3, measure=37.8]\n",
      "Epoch 339/500: 100%|██████████████████████████████████████████| 17/17 [00:00<00:00, 118.88it/s, loss=787, measure=22.1]\n",
      "Epoch 340/500: 100%|██████████████████████████████████████| 17/17 [00:00<00:00, 123.19it/s, loss=3.87e+3, measure=39.2]\n",
      "Epoch 341/500: 100%|██████████████████████████████████████| 17/17 [00:00<00:00, 125.92it/s, loss=8.55e+3, measure=47.3]\n",
      "Epoch 342/500: 100%|██████████████████████████████████████| 17/17 [00:00<00:00, 122.30it/s, loss=6.44e+3, measure=43.5]\n",
      "Epoch 343/500: 100%|██████████████████████████████████████| 17/17 [00:00<00:00, 126.87it/s, loss=2.57e+3, measure=31.6]\n",
      "Epoch 344/500: 100%|███████████████████████████████████████| 17/17 [00:00<00:00, 119.72it/s, loss=2.5e+3, measure=31.9]\n",
      "Epoch 345/500: 100%|██████████████████████████████████████| 17/17 [00:00<00:00, 118.05it/s, loss=1.35e+3, measure=26.6]\n",
      "Epoch 346/500: 100%|██████████████████████████████████████| 17/17 [00:00<00:00, 119.72it/s, loss=7.88e+3, measure=43.7]\n",
      "Epoch 347/500: 100%|██████████████████████████████████████| 17/17 [00:00<00:00, 121.43it/s, loss=2.81e+3, measure=34.2]\n",
      "Epoch 348/500: 100%|██████████████████████████████████████| 17/17 [00:00<00:00, 119.72it/s, loss=6.43e+3, measure=42.3]\n",
      "Epoch 349/500: 100%|██████████████████████████████████████| 17/17 [00:00<00:00, 120.57it/s, loss=2.31e+3, measure=32.5]\n",
      "Epoch 350/500: 100%|██████████████████████████████████████████| 17/17 [00:00<00:00, 123.19it/s, loss=712, measure=23.7]\n",
      "Epoch 351/500: 100%|██████████████████████████████████████| 17/17 [00:00<00:00, 112.58it/s, loss=7.99e+3, measure=54.7]\n",
      "Epoch 352/500: 100%|██████████████████████████████████████| 17/17 [00:00<00:00, 125.00it/s, loss=6.75e+3, measure=55.7]\n",
      "Epoch 353/500: 100%|██████████████████████████████████████| 17/17 [00:00<00:00, 120.57it/s, loss=5.47e+3, measure=34.3]\n",
      "Epoch 354/500: 100%|██████████████████████████████████████| 17/17 [00:00<00:00, 116.78it/s, loss=6.17e+3, measure=44.6]\n",
      "Epoch 355/500: 100%|██████████████████████████████████████| 17/17 [00:00<00:00, 124.09it/s, loss=2.96e+3, measure=36.1]\n",
      "Epoch 356/500: 100%|██████████████████████████████████████| 17/17 [00:00<00:00, 125.93it/s, loss=1.82e+3, measure=31.7]\n",
      "Epoch 357/500: 100%|██████████████████████████████████████| 17/17 [00:00<00:00, 127.82it/s, loss=7.02e+3, measure=40.3]\n",
      "Epoch 358/500: 100%|██████████████████████████████████████| 17/17 [00:00<00:00, 124.09it/s, loss=9.34e+3, measure=64.1]\n",
      "Epoch 359/500: 100%|██████████████████████████████████████| 17/17 [00:00<00:00, 123.19it/s, loss=1.03e+3, measure=24.9]\n",
      "Epoch 360/500: 100%|██████████████████████████████████████| 17/17 [00:00<00:00, 119.72it/s, loss=3.37e+3, measure=34.9]\n",
      "Epoch 361/500: 100%|██████████████████████████████████████| 17/17 [00:00<00:00, 121.43it/s, loss=2.18e+3, measure=33.6]\n",
      "Epoch 362/500: 100%|███████████████████████████████████████| 17/17 [00:00<00:00, 122.27it/s, loss=1.6e+3, measure=27.4]\n",
      "Epoch 363/500: 100%|██████████████████████████████████████| 17/17 [00:00<00:00, 129.23it/s, loss=1.33e+3, measure=24.2]\n",
      "Epoch 364/500: 100%|██████████████████████████████████████| 17/17 [00:00<00:00, 122.30it/s, loss=2.99e+3, measure=35.1]\n",
      "Epoch 365/500: 100%|██████████████████████████████████████████| 17/17 [00:00<00:00, 116.44it/s, loss=488, measure=19.3]\n",
      "Epoch 366/500: 100%|██████████████████████████████████████| 17/17 [00:00<00:00, 127.33it/s, loss=3.43e+3, measure=37.1]\n",
      "Epoch 367/500: 100%|██████████████████████████████████████| 17/17 [00:00<00:00, 121.43it/s, loss=3.51e+3, measure=39.1]\n",
      "Epoch 368/500: 100%|██████████████████████████████████████| 17/17 [00:00<00:00, 125.91it/s, loss=1.58e+3, measure=29.9]\n",
      "Epoch 369/500: 100%|██████████████████████████████████████| 17/17 [00:00<00:00, 125.94it/s, loss=1.96e+3, measure=32.8]\n",
      "Epoch 370/500: 100%|███████████████████████████████████████████| 17/17 [00:00<00:00, 122.30it/s, loss=2e+3, measure=36]\n",
      "Epoch 371/500: 100%|████████████████████████████████████████| 17/17 [00:00<00:00, 127.82it/s, loss=2.66e+3, measure=34]\n",
      "Epoch 372/500: 100%|██████████████████████████████████████| 17/17 [00:00<00:00, 114.10it/s, loss=1.49e+3, measure=32.7]\n",
      "Epoch 373/500: 100%|█████████████████████████████████████████| 17/17 [00:00<00:00, 126.86it/s, loss=2e+3, measure=30.1]\n",
      "Epoch 374/500: 100%|██████████████████████████████████████| 17/17 [00:00<00:00, 124.09it/s, loss=2.13e+3, measure=29.7]\n",
      "Epoch 375/500: 100%|██████████████████████████████████████| 17/17 [00:00<00:00, 124.97it/s, loss=3.46e+3, measure=34.5]\n",
      "Epoch 376/500: 100%|██████████████████████████████████████████| 17/17 [00:00<00:00, 125.00it/s, loss=836, measure=26.4]\n",
      "Epoch 377/500: 100%|██████████████████████████████████████| 17/17 [00:00<00:00, 125.00it/s, loss=2.22e+3, measure=29.1]\n",
      "Epoch 378/500: 100%|██████████████████████████████████████████| 17/17 [00:00<00:00, 130.77it/s, loss=713, measure=23.1]\n",
      "Epoch 379/500: 100%|██████████████████████████████████████████| 17/17 [00:00<00:00, 119.72it/s, loss=885, measure=23.6]\n",
      "Epoch 380/500: 100%|████████████████████████████████████████| 17/17 [00:00<00:00, 117.24it/s, loss=3.73e+3, measure=30]\n",
      "Epoch 381/500: 100%|██████████████████████████████████████| 17/17 [00:00<00:00, 121.43it/s, loss=2.53e+3, measure=33.1]\n",
      "Epoch 382/500: 100%|██████████████████████████████████████| 17/17 [00:00<00:00, 125.00it/s, loss=4.77e+3, measure=43.2]\n",
      "Epoch 383/500: 100%|██████████████████████████████████████| 17/17 [00:00<00:00, 125.92it/s, loss=3.25e+3, measure=37.7]\n",
      "Epoch 384/500: 100%|██████████████████████████████████████| 17/17 [00:00<00:00, 119.28it/s, loss=5.16e+3, measure=47.2]\n",
      "Epoch 385/500: 100%|██████████████████████████████████████| 17/17 [00:00<00:00, 120.57it/s, loss=1.86e+3, measure=33.9]\n",
      "Epoch 386/500: 100%|██████████████████████████████████████| 17/17 [00:00<00:00, 118.05it/s, loss=2.48e+3, measure=28.2]\n",
      "Epoch 387/500: 100%|██████████████████████████████████████| 17/17 [00:00<00:00, 118.88it/s, loss=4.77e+3, measure=43.2]\n",
      "Epoch 388/500: 100%|██████████████████████████████████████| 17/17 [00:00<00:00, 121.43it/s, loss=3.31e+3, measure=33.9]\n",
      "Epoch 389/500: 100%|███████████████████████████████████████| 17/17 [00:00<00:00, 117.24it/s, loss=2.6e+3, measure=31.6]\n",
      "Epoch 390/500: 100%|██████████████████████████████████████████| 17/17 [00:00<00:00, 117.98it/s, loss=674, measure=23.4]\n",
      "Epoch 391/500: 100%|██████████████████████████████████████| 17/17 [00:00<00:00, 120.57it/s, loss=5.15e+3, measure=43.8]\n",
      "Epoch 392/500: 100%|██████████████████████████████████████| 17/17 [00:00<00:00, 123.19it/s, loss=1.85e+3, measure=29.7]\n",
      "Epoch 393/500: 100%|██████████████████████████████████████████| 17/17 [00:00<00:00, 124.09it/s, loss=772, measure=23.2]\n",
      "Epoch 394/500: 100%|██████████████████████████████████████| 17/17 [00:00<00:00, 127.82it/s, loss=2.21e+3, measure=30.2]\n",
      "Epoch 395/500: 100%|██████████████████████████████████████| 17/17 [00:00<00:00, 123.19it/s, loss=3.58e+3, measure=39.3]\n",
      "Epoch 396/500: 100%|███████████████████████████████████████| 17/17 [00:00<00:00, 129.77it/s, loss=3.2e+3, measure=38.2]\n",
      "Epoch 397/500: 100%|██████████████████████████████████████| 17/17 [00:00<00:00, 126.87it/s, loss=3.34e+3, measure=40.3]\n",
      "Epoch 398/500: 100%|██████████████████████████████████████| 17/17 [00:00<00:00, 118.88it/s, loss=5.95e+3, measure=43.1]\n",
      "Epoch 399/500: 100%|██████████████████████████████████████| 17/17 [00:00<00:00, 125.45it/s, loss=9.83e+3, measure=56.1]\n",
      "Epoch 400/500: 100%|██████████████████████████████████████| 17/17 [00:00<00:00, 117.24it/s, loss=1.78e+3, measure=28.2]\n",
      "Epoch 401/500: 100%|██████████████████████████████████████| 17/17 [00:00<00:00, 118.69it/s, loss=2.92e+3, measure=38.4]\n",
      "Epoch 402/500: 100%|██████████████████████████████████████| 17/17 [00:00<00:00, 120.56it/s, loss=2.22e+3, measure=35.1]\n",
      "Epoch 403/500: 100%|██████████████████████████████████████| 17/17 [00:00<00:00, 120.57it/s, loss=1.07e+3, measure=24.9]\n",
      "Epoch 404/500: 100%|██████████████████████████████████████| 17/17 [00:00<00:00, 119.72it/s, loss=2.55e+3, measure=33.2]\n",
      "Epoch 405/500: 100%|██████████████████████████████████████| 17/17 [00:00<00:00, 124.09it/s, loss=3.06e+3, measure=38.1]\n",
      "Epoch 406/500: 100%|██████████████████████████████████████| 17/17 [00:00<00:00, 121.41it/s, loss=7.01e+3, measure=54.4]\n",
      "Epoch 407/500: 100%|██████████████████████████████████████| 17/17 [00:00<00:00, 111.84it/s, loss=1.58e+3, measure=31.9]\n",
      "Epoch 408/500: 100%|██████████████████████████████████████| 17/17 [00:00<00:00, 118.06it/s, loss=2.52e+3, measure=32.2]\n",
      "Epoch 409/500: 100%|██████████████████████████████████████| 17/17 [00:00<00:00, 119.72it/s, loss=2.47e+3, measure=34.9]\n",
      "Epoch 410/500: 100%|██████████████████████████████████████| 17/17 [00:00<00:00, 119.72it/s, loss=6.89e+3, measure=41.4]\n",
      "Epoch 411/500: 100%|██████████████████████████████████████████| 17/17 [00:00<00:00, 120.57it/s, loss=885, measure=25.7]\n",
      "Epoch 412/500: 100%|██████████████████████████████████████| 17/17 [00:00<00:00, 123.22it/s, loss=7.53e+3, measure=45.9]\n",
      "Epoch 413/500: 100%|███████████████████████████████████████| 17/17 [00:00<00:00, 119.72it/s, loss=4.3e+3, measure=37.2]\n",
      "Epoch 414/500: 100%|██████████████████████████████████████| 17/17 [00:00<00:00, 118.06it/s, loss=2.46e+3, measure=34.3]\n",
      "Epoch 415/500: 100%|██████████████████████████████████████| 17/17 [00:00<00:00, 122.30it/s, loss=2.38e+3, measure=38.7]\n",
      "Epoch 416/500: 100%|██████████████████████████████████████| 17/17 [00:00<00:00, 121.43it/s, loss=1.78e+3, measure=33.5]\n",
      "Epoch 417/500: 100%|██████████████████████████████████████| 17/17 [00:00<00:00, 118.88it/s, loss=1.88e+3, measure=32.8]\n",
      "Epoch 418/500: 100%|██████████████████████████████████████| 17/17 [00:00<00:00, 122.30it/s, loss=2.43e+3, measure=31.4]\n",
      "Epoch 419/500: 100%|██████████████████████████████████████| 17/17 [00:00<00:00, 118.86it/s, loss=1.76e+3, measure=29.5]\n",
      "Epoch 420/500: 100%|██████████████████████████████████████| 17/17 [00:00<00:00, 119.72it/s, loss=2.83e+3, measure=34.7]\n",
      "Epoch 421/500: 100%|██████████████████████████████████████| 17/17 [00:00<00:00, 120.57it/s, loss=9.53e+3, measure=50.6]\n",
      "Epoch 422/500: 100%|██████████████████████████████████████| 17/17 [00:00<00:00, 115.98it/s, loss=3.38e+3, measure=36.4]\n",
      "Epoch 423/500: 100%|██████████████████████████████████████| 17/17 [00:00<00:00, 123.19it/s, loss=2.35e+3, measure=27.5]\n",
      "Epoch 424/500: 100%|██████████████████████████████████████| 17/17 [00:00<00:00, 124.09it/s, loss=2.11e+3, measure=31.2]\n",
      "Epoch 425/500: 100%|██████████████████████████████████████| 17/17 [00:00<00:00, 125.00it/s, loss=1.11e+3, measure=29.2]\n",
      "Epoch 426/500: 100%|██████████████████████████████████████| 17/17 [00:00<00:00, 125.93it/s, loss=2.81e+3, measure=29.9]\n",
      "Epoch 427/500: 100%|████████████████████████████████████████| 17/17 [00:00<00:00, 122.30it/s, loss=8.67e+3, measure=55]\n",
      "Epoch 428/500: 100%|██████████████████████████████████████| 17/17 [00:00<00:00, 114.09it/s, loss=2.45e+3, measure=34.9]\n",
      "Epoch 429/500: 100%|██████████████████████████████████████| 17/17 [00:00<00:00, 128.79it/s, loss=3.01e+3, measure=31.6]\n",
      "Epoch 430/500: 100%|██████████████████████████████████████| 17/17 [00:00<00:00, 121.43it/s, loss=1.01e+4, measure=60.9]\n",
      "Epoch 431/500: 100%|██████████████████████████████████████| 17/17 [00:00<00:00, 125.00it/s, loss=2.02e+3, measure=27.7]\n",
      "Epoch 432/500: 100%|███████████████████████████████████████| 17/17 [00:00<00:00, 116.83it/s, loss=1.4e+3, measure=26.3]\n",
      "Epoch 433/500: 100%|██████████████████████████████████████| 17/17 [00:00<00:00, 127.82it/s, loss=3.57e+3, measure=42.4]\n",
      "Epoch 434/500: 100%|██████████████████████████████████████| 17/17 [00:00<00:00, 124.94it/s, loss=1.74e+3, measure=28.6]\n",
      "Epoch 435/500: 100%|████████████████████████████████████████| 17/17 [00:00<00:00, 119.72it/s, loss=7.14e+3, measure=46]\n",
      "Epoch 436/500: 100%|██████████████████████████████████████| 17/17 [00:00<00:00, 116.83it/s, loss=2.69e+3, measure=34.1]\n",
      "Epoch 437/500: 100%|███████████████████████████████████████| 17/17 [00:00<00:00, 119.72it/s, loss=7.6e+3, measure=43.7]\n",
      "Epoch 438/500: 100%|██████████████████████████████████████| 17/17 [00:00<00:00, 122.30it/s, loss=5.22e+3, measure=44.1]\n",
      "Epoch 439/500: 100%|████████████████████████████████████████| 17/17 [00:00<00:00, 113.33it/s, loss=9.04e+3, measure=54]\n",
      "Epoch 440/500: 100%|██████████████████████████████████████| 17/17 [00:00<00:00, 123.19it/s, loss=2.51e+3, measure=40.1]\n",
      "Epoch 441/500: 100%|██████████████████████████████████████| 17/17 [00:00<00:00, 127.82it/s, loss=2.64e+3, measure=30.4]\n",
      "Epoch 442/500: 100%|██████████████████████████████████████| 17/17 [00:00<00:00, 112.86it/s, loss=1.18e+4, measure=61.8]\n",
      "Epoch 443/500: 100%|██████████████████████████████████████| 17/17 [00:00<00:00, 125.45it/s, loss=5.59e+3, measure=44.2]\n",
      "Epoch 444/500: 100%|██████████████████████████████████████| 17/17 [00:00<00:00, 121.43it/s, loss=5.04e+3, measure=37.1]\n",
      "Epoch 445/500: 100%|██████████████████████████████████████| 17/17 [00:00<00:00, 120.57it/s, loss=1.36e+3, measure=30.6]\n",
      "Epoch 446/500: 100%|██████████████████████████████████████| 17/17 [00:00<00:00, 125.93it/s, loss=2.42e+3, measure=35.9]\n",
      "Epoch 447/500: 100%|██████████████████████████████████████| 17/17 [00:00<00:00, 123.19it/s, loss=4.78e+3, measure=38.2]\n",
      "Epoch 448/500: 100%|██████████████████████████████████████| 17/17 [00:00<00:00, 117.24it/s, loss=7.18e+3, measure=54.7]\n",
      "Epoch 449/500: 100%|██████████████████████████████████████| 17/17 [00:00<00:00, 127.82it/s, loss=4.34e+3, measure=39.6]\n",
      "Epoch 450/500: 100%|██████████████████████████████████████| 17/17 [00:00<00:00, 120.57it/s, loss=7.51e+3, measure=45.7]\n",
      "Epoch 451/500: 100%|██████████████████████████████████████| 17/17 [00:00<00:00, 122.73it/s, loss=5.76e+3, measure=53.3]\n",
      "Epoch 452/500: 100%|██████████████████████████████████████████| 17/17 [00:00<00:00, 124.09it/s, loss=586, measure=18.3]\n",
      "Epoch 453/500: 100%|██████████████████████████████████████| 17/17 [00:00<00:00, 120.95it/s, loss=4.38e+3, measure=40.3]\n",
      "Epoch 454/500: 100%|██████████████████████████████████████| 17/17 [00:00<00:00, 127.82it/s, loss=3.61e+3, measure=40.7]\n",
      "Epoch 455/500: 100%|██████████████████████████████████████████| 17/17 [00:00<00:00, 125.63it/s, loss=499, measure=20.4]\n",
      "Epoch 456/500: 100%|████████████████████████████████████████| 17/17 [00:00<00:00, 127.82it/s, loss=3.06e+3, measure=32]\n",
      "Epoch 457/500: 100%|██████████████████████████████████████| 17/17 [00:00<00:00, 125.00it/s, loss=1.56e+3, measure=31.5]\n",
      "Epoch 458/500: 100%|██████████████████████████████████████| 17/17 [00:00<00:00, 123.19it/s, loss=2.29e+3, measure=33.5]\n",
      "Epoch 459/500: 100%|██████████████████████████████████████| 17/17 [00:00<00:00, 127.82it/s, loss=7.83e+3, measure=58.1]\n",
      "Epoch 460/500: 100%|██████████████████████████████████████| 17/17 [00:00<00:00, 114.87it/s, loss=3.43e+3, measure=38.9]\n",
      "Epoch 461/500: 100%|██████████████████████████████████████| 17/17 [00:00<00:00, 124.02it/s, loss=1.89e+3, measure=31.4]\n",
      "Epoch 462/500: 100%|██████████████████████████████████████| 17/17 [00:00<00:00, 128.79it/s, loss=2.78e+3, measure=34.2]\n",
      "Epoch 463/500: 100%|██████████████████████████████████████| 17/17 [00:00<00:00, 118.81it/s, loss=1.83e+3, measure=33.9]\n",
      "Epoch 464/500: 100%|██████████████████████████████████████| 17/17 [00:00<00:00, 120.57it/s, loss=7.88e+3, measure=46.1]\n",
      "Epoch 465/500: 100%|██████████████████████████████████████| 17/17 [00:00<00:00, 125.93it/s, loss=4.02e+3, measure=41.7]\n",
      "Epoch 466/500: 100%|██████████████████████████████████████| 17/17 [00:00<00:00, 122.30it/s, loss=1.14e+3, measure=26.3]\n",
      "Epoch 467/500: 100%|██████████████████████████████████████| 17/17 [00:00<00:00, 120.57it/s, loss=9.74e+3, measure=50.8]\n",
      "Epoch 468/500: 100%|██████████████████████████████████████| 17/17 [00:00<00:00, 122.30it/s, loss=2.99e+3, measure=35.4]\n",
      "Epoch 469/500: 100%|██████████████████████████████████████████| 17/17 [00:00<00:00, 123.19it/s, loss=991, measure=18.9]\n",
      "Epoch 470/500: 100%|██████████████████████████████████████| 17/17 [00:00<00:00, 115.63it/s, loss=5.01e+3, measure=45.7]\n",
      "Epoch 471/500: 100%|██████████████████████████████████████| 17/17 [00:00<00:00, 112.58it/s, loss=2.43e+3, measure=37.1]\n",
      "Epoch 472/500: 100%|██████████████████████████████████████| 17/17 [00:00<00:00, 118.05it/s, loss=5.93e+3, measure=44.4]\n",
      "Epoch 473/500: 100%|██████████████████████████████████████| 17/17 [00:00<00:00, 118.06it/s, loss=2.31e+3, measure=32.9]\n",
      "Epoch 474/500: 100%|██████████████████████████████████████| 17/17 [00:00<00:00, 125.00it/s, loss=6.73e+3, measure=40.2]\n",
      "Epoch 475/500: 100%|██████████████████████████████████████| 17/17 [00:00<00:00, 113.33it/s, loss=2.85e+3, measure=35.2]\n",
      "Epoch 476/500: 100%|██████████████████████████████████████████| 17/17 [00:00<00:00, 123.19it/s, loss=932, measure=22.9]\n",
      "Epoch 477/500: 100%|██████████████████████████████████████| 17/17 [00:00<00:00, 118.06it/s, loss=3.65e+3, measure=37.4]\n",
      "Epoch 478/500: 100%|██████████████████████████████████████| 17/17 [00:00<00:00, 121.43it/s, loss=3.53e+3, measure=43.2]\n",
      "Epoch 479/500: 100%|██████████████████████████████████████| 17/17 [00:00<00:00, 120.57it/s, loss=7.77e+3, measure=46.8]\n",
      "Epoch 480/500: 100%|███████████████████████████████████████| 17/17 [00:00<00:00, 120.54it/s, loss=4.3e+3, measure=39.9]\n",
      "Epoch 481/500: 100%|██████████████████████████████████████| 17/17 [00:00<00:00, 118.05it/s, loss=1.19e+3, measure=25.5]\n",
      "Epoch 482/500: 100%|██████████████████████████████████████| 17/17 [00:00<00:00, 122.74it/s, loss=8.94e+3, measure=48.8]\n",
      "Epoch 483/500: 100%|██████████████████████████████████████| 17/17 [00:00<00:00, 128.79it/s, loss=2.99e+3, measure=37.7]\n",
      "Epoch 484/500: 100%|██████████████████████████████████████| 17/17 [00:00<00:00, 123.19it/s, loss=4.12e+3, measure=40.7]\n",
      "Epoch 485/500: 100%|██████████████████████████████████████| 17/17 [00:00<00:00, 124.95it/s, loss=4.17e+3, measure=38.5]\n",
      "Epoch 486/500: 100%|██████████████████████████████████████| 17/17 [00:00<00:00, 115.65it/s, loss=2.61e+3, measure=31.7]\n",
      "Epoch 487/500: 100%|██████████████████████████████████████| 17/17 [00:00<00:00, 118.05it/s, loss=4.94e+3, measure=35.7]\n",
      "Epoch 488/500: 100%|██████████████████████████████████████| 17/17 [00:00<00:00, 124.09it/s, loss=1.03e+3, measure=26.9]\n",
      "Epoch 489/500: 100%|██████████████████████████████████████| 17/17 [00:00<00:00, 125.00it/s, loss=2.53e+3, measure=36.6]\n",
      "Epoch 490/500: 100%|██████████████████████████████████████| 17/17 [00:00<00:00, 116.42it/s, loss=2.16e+3, measure=32.5]\n",
      "Epoch 491/500: 100%|████████████████████████████████████████████| 17/17 [00:00<00:00, 119.29it/s, loss=956, measure=23]\n",
      "Epoch 492/500: 100%|██████████████████████████████████████| 17/17 [00:00<00:00, 111.84it/s, loss=5.65e+3, measure=44.4]\n",
      "Epoch 493/500: 100%|██████████████████████████████████████| 17/17 [00:00<00:00, 117.24it/s, loss=1.63e+3, measure=30.6]\n",
      "Epoch 494/500: 100%|██████████████████████████████████████| 17/17 [00:00<00:00, 120.57it/s, loss=2.14e+3, measure=29.4]\n",
      "Epoch 495/500: 100%|████████████████████████████████████████| 17/17 [00:00<00:00, 123.19it/s, loss=2.38e+3, measure=36]\n",
      "Epoch 496/500: 100%|██████████████████████████████████████| 17/17 [00:00<00:00, 120.57it/s, loss=2.89e+3, measure=29.3]\n",
      "Epoch 497/500: 100%|██████████████████████████████████████| 17/17 [00:00<00:00, 125.00it/s, loss=1.81e+3, measure=27.3]\n",
      "Epoch 498/500: 100%|██████████████████████████████████████████| 17/17 [00:00<00:00, 118.06it/s, loss=787, measure=25.7]\n",
      "Epoch 499/500: 100%|███████████████████████████████████████| 17/17 [00:00<00:00, 122.25it/s, loss=1.8e+3, measure=25.9]\n",
      "Epoch 500/500: 100%|██████████████████████████████████████| 17/17 [00:00<00:00, 121.43it/s, loss=5.88e+3, measure=43.1]\n"
     ]
    },
    {
     "name": "stdout",
     "output_type": "stream",
     "text": [
      "Done!\n"
     ]
    }
   ],
   "source": [
    "loss_fn = nn.MSELoss()\n",
    "measure_fn = nn.L1Loss()\n",
    "optimizer = torch.optim.Adam(model.parameters())\n",
    "\n",
    "results = train(train_dataloader, model, loss_fn, measure_fn, optimizer, 500)\n",
    "print(\"Done!\")"
   ]
  },
  {
   "cell_type": "code",
   "execution_count": 530,
   "id": "2ffb3f43-4d8f-4024-8698-4c537739acc5",
   "metadata": {},
   "outputs": [
    {
     "data": {
      "image/png": "[encoded data removed]",
      "text/plain": [
       "<Figure size 432x288 with 2 Axes>"
      ]
     },
     "metadata": {
      "needs_background": "light"
     },
     "output_type": "display_data"
    }
   ],
   "source": [
    "results_data = pd.DataFrame(results).rolling(window=15).mean()\n",
    "results_data.columns = ['loss', 'measure']\n",
    "ax = results_data.plot(subplots=True);"
   ]
  },
  {
   "cell_type": "code",
   "execution_count": null,
   "id": "452365b1-e9a3-41bf-bad2-515545cb9414",
   "metadata": {},
   "outputs": [],
   "source": []
  }
 ],
 "metadata": {
  "kernelspec": {
   "display_name": "Python 3",
   "language": "python",
   "name": "python3"
  },
  "language_info": {
   "codemirror_mode": {
    "name": "ipython",
    "version": 3
   },
   "file_extension": ".py",
   "mimetype": "text/x-python",
   "name": "python",
   "nbconvert_exporter": "python",
   "pygments_lexer": "ipython3",
   "version": "3.9.4"
  }
 },
 "nbformat": 4,
 "nbformat_minor": 5
}
