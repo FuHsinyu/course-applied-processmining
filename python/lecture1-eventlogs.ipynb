{
 "cells": [
  {
   "cell_type": "markdown",
   "source": [
    "# Applied Process Mining Module*\r\n",
    "\r\n",
    "This notebook is part of an Applied Process Mining module. The collection of notebooks is a *living document* and subject to change. \r\n",
    "\r\n",
    "# Lecture 1 - 'Event Logs and Process Discovery' (Python / PM4Py)"
   ],
   "metadata": {}
  },
  {
   "cell_type": "markdown",
   "source": [
    "## Setup\n",
    "\n",
    "<img src=\"https://pm4py.fit.fraunhofer.de/static/assets/images/pm4py-site-logo-padded.png\" alt=\"PM4Py\" style=\"width: 200px;\"/>\n",
    "\n",
    "In this notebook, we are using the [PM4Py library](https://pm4py.fit.fraunhofer.de/) in combination with several standard Python data science libraries:\n",
    "\n",
    "* [pandas](https://pandas.pydata.org/)\n",
    "* [plotnine](https://plotnine.readthedocs.io/en/stable/)"
   ],
   "metadata": {}
  },
  {
   "cell_type": "code",
   "execution_count": null,
   "source": [
    "## Perform the commented out commands to install the dependencies\r\n",
    "# %pip install pandas\r\n",
    "# %pip install matplotlib\r\n",
    "# %pip install pm4py"
   ],
   "outputs": [],
   "metadata": {}
  },
  {
   "cell_type": "code",
   "execution_count": null,
   "source": [
    "import pandas as pd\r\n",
    "import pm4py\r\n",
    "import plotnine\r\n",
    "from plotnine import ggplot, geom_point, aes, theme_bw, coord_flip, scale_y_discrete, theme, element_text, geom_bin2d"
   ],
   "outputs": [],
   "metadata": {}
  },
  {
   "cell_type": "markdown",
   "source": [
    "## Event Logs\n",
    "\n",
    "This part introduces event logs and their unique properties that provide the basis for any Process Mining method. We use the same event logs as provided by `bupaR`. However, we need to load them from the CSV files in the `data` directory of this repository. In this lecture we are going to make use of the following datasets:\n",
    "\n",
    "* Patients, a synthetically generated example event log in a hospital setting.\n",
    "* Sepsis, a real-life event log taken from a Dutch hospital. The event log is publicly available here: https://doi.org/10.4121/uuid:915d2bfb-7e84-49ad-a286-dc35f063a460 and has been used in many Process Mining related publications."
   ],
   "metadata": {}
  },
  {
   "cell_type": "markdown",
   "source": [
    "### Import Patients Data"
   ],
   "metadata": {}
  },
  {
   "cell_type": "code",
   "execution_count": null,
   "source": [
    "patients = pd.read_csv(\"../data/patients.csv\", sep=';')\r\n",
    "num_rows = len(patients)\r\n",
    "print(\"Number of rows: {}\".format(num_rows))"
   ],
   "outputs": [],
   "metadata": {}
  },
  {
   "cell_type": "markdown",
   "source": [
    "### Import Sepsis Data"
   ],
   "metadata": {}
  },
  {
   "cell_type": "code",
   "execution_count": null,
   "source": [
    "sepsis = pd.read_csv(\"../data/sepsis.csv\", sep=';')\r\n",
    "num_rows = len(sepsis)\r\n",
    "print(\"Number of rows: {}\".format(num_rows))"
   ],
   "outputs": [],
   "metadata": {}
  },
  {
   "cell_type": "markdown",
   "source": [
    "### Exploring Event Data\n",
    "\n",
    "Let us first explore the event data without any prior knowledge about event log structure or properties. We convert the `patients` event log below to a standard `tibble` (https://tibble.tidyverse.org/) and inspect the first rows."
   ],
   "metadata": {}
  },
  {
   "cell_type": "code",
   "execution_count": null,
   "source": [
    "patients.head()"
   ],
   "outputs": [],
   "metadata": {}
  },
  {
   "cell_type": "code",
   "execution_count": null,
   "source": [
    "patients_sample = patients[patients['time'] < '2017-01-31']\n",
    "(ggplot(patients_sample, aes('time', 0))\n",
    " + geom_point() \n",
    " + theme_bw())"
   ],
   "outputs": [],
   "metadata": {}
  },
  {
   "cell_type": "code",
   "execution_count": null,
   "source": [
    "patients.drop_duplicates(subset='handling')[[\"handling\"]]"
   ],
   "outputs": [],
   "metadata": {}
  },
  {
   "cell_type": "code",
   "execution_count": null,
   "source": [
    "patients.drop_duplicates(subset='patient')[[\"patient\"]].head()"
   ],
   "outputs": [],
   "metadata": {}
  },
  {
   "cell_type": "code",
   "execution_count": null,
   "source": [
    "patients.groupby(['patient'])[\"patient\"].agg(['count']).head()"
   ],
   "outputs": [],
   "metadata": {}
  },
  {
   "cell_type": "code",
   "execution_count": null,
   "source": [
    "patients_sample = patients[patients['time'] < '2017-01-31']\n",
    "(ggplot(patients_sample, aes('time', 'patient', color = 'handling'))\n",
    " + geom_point() \n",
    " + theme_bw())"
   ],
   "outputs": [],
   "metadata": {}
  },
  {
   "cell_type": "code",
   "execution_count": null,
   "source": [
    "patients.sort_values(['patient', 'time']).head()"
   ],
   "outputs": [],
   "metadata": {}
  },
  {
   "cell_type": "markdown",
   "source": [
    "### Further resources\n",
    "\n",
    "* [XES Standard](http://xes-standard.org/)\n",
    "* [Importing CSV event logs](https://pm4py.fit.fraunhofer.de/documentation#item-import-csv)\n",
    "* [Importing XES event logs](https://pm4py.fit.fraunhofer.de/documentation#item-impoort-xes)"
   ],
   "metadata": {}
  },
  {
   "cell_type": "markdown",
   "source": [
    "#### Reflection Questions\n",
    "\n",
    "* What could be the reason a column `.order` is included in this dataset?\n",
    "* How could the column `employee` be used?\n",
    "* What is the use of the column `handling_id` and in which situation is it required?"
   ],
   "metadata": {}
  },
  {
   "cell_type": "markdown",
   "source": [
    "## Basic Process Visualization"
   ],
   "metadata": {}
  },
  {
   "cell_type": "markdown",
   "source": [
    "### Set of Traces \n",
    "\n",
    "Exploring traces as a set visualization is currently not implemented in PM4Py. \n",
    "**Challenge** implement a visualization similar to that in bupaR with Python and open a pull request. Here are some reference implementations of a 'trace explorer':\n",
    "\n",
    "* http://bupar.net/trace_explorer.html\n",
    "* https://fmannhardt.de/blog/software/prom/explorer (ProM)\n"
   ],
   "metadata": {}
  },
  {
   "cell_type": "code",
   "execution_count": null,
   "source": [
    "# implement a view of the event log as a set of traces "
   ],
   "outputs": [],
   "metadata": {}
  },
  {
   "cell_type": "markdown",
   "source": [
    "### Dotted Chart\n",
    "\n",
    "Again, the open source version of PM4Py does not provide a DottedChart. However, the basic visualization can be quickly replicated (to some degree) using standard plotting libraries such as `plotnine` as we saw above.\n",
    "We need some pre-processing of the dataframe:"
   ],
   "metadata": {}
  },
  {
   "cell_type": "code",
   "execution_count": null,
   "source": [
    "patients_sorted = patients.sort_values(['time'])\n",
    "patients_sorted['patient'] = pd.Categorical(patients_sorted['patient'], categories = patients_sorted['patient'].drop_duplicates().tolist()[::-1], ordered= True)\n",
    "patients_sorted['time'] = pd.to_datetime(patients_sorted['time'])"
   ],
   "outputs": [],
   "metadata": {}
  },
  {
   "cell_type": "markdown",
   "source": [
    "#### Time Dimension"
   ],
   "metadata": {}
  },
  {
   "cell_type": "code",
   "execution_count": null,
   "source": [
    "(ggplot(patients_sorted[patients_sorted['time'] < '2017-01-31'], \n",
    "        aes('time', 'patient', color = 'handling'))\n",
    " + geom_point()\n",
    " + theme_bw()\n",
    " + theme(axis_text_x=element_text(rotation=45, hjust=1)))"
   ],
   "outputs": [],
   "metadata": {}
  },
  {
   "cell_type": "markdown",
   "source": [
    "#### Performance Dimension"
   ],
   "metadata": {}
  },
  {
   "cell_type": "markdown",
   "source": [
    "We meed to make the time relative and add a new column `time_relative` for that purpose:"
   ],
   "metadata": {}
  },
  {
   "cell_type": "code",
   "execution_count": null,
   "source": [
    "patients_sorted['time_relative'] = patients_sorted['time'].sub( patients_sorted.groupby('patient')['time'].transform('first'))"
   ],
   "outputs": [],
   "metadata": {}
  },
  {
   "cell_type": "code",
   "execution_count": null,
   "source": [
    "(ggplot(patients_sorted, aes('time_relative', 'patient', color = 'handling'))\n",
    " + geom_point()\n",
    " + theme_bw()\n",
    " + theme(axis_text_x=element_text(rotation=45, hjust=1)))"
   ],
   "outputs": [],
   "metadata": {}
  },
  {
   "cell_type": "markdown",
   "source": [
    "We still need to sort by the overall duration to replicate the `bupaR`"
   ],
   "metadata": {}
  },
  {
   "cell_type": "code",
   "execution_count": null,
   "source": [
    "patients_sorted['duration'] = patients_sorted.groupby('patient')['time_relative'].transform('max')"
   ],
   "outputs": [],
   "metadata": {}
  },
  {
   "cell_type": "code",
   "execution_count": null,
   "source": [
    "patients_sorted_duration = patients_sorted.sort_values(['duration'])\n",
    "patients_sorted_duration['patient'] = pd.Categorical(patients_sorted_duration['patient'], categories = patients_sorted_duration['patient'].drop_duplicates().tolist()[::-1], ordered= True)\n",
    "\n",
    "(ggplot(patients_sorted_duration, aes('time_relative', 'patient', color = 'handling'))\n",
    " + geom_point()\n",
    " + theme_bw()\n",
    " + theme(axis_text_x=element_text(rotation=45, hjust=1)))"
   ],
   "outputs": [],
   "metadata": {}
  },
  {
   "cell_type": "markdown",
   "source": [
    "Check out other basic process visualization options using PM4Py:\n",
    "\n",
    "* [Basic Process Statistics](https://pm4py.fit.fraunhofer.de/documentation#statistics)"
   ],
   "metadata": {}
  },
  {
   "cell_type": "markdown",
   "source": [
    "## Process Map Visualization"
   ],
   "metadata": {}
  },
  {
   "cell_type": "markdown",
   "source": [
    "Again, there is no built-in precedence matrix visualization in PM4Py, but it can be replicated easily:"
   ],
   "metadata": {}
  },
  {
   "cell_type": "code",
   "execution_count": null,
   "source": [
    "patients_sorted['antecedent'] = patients_sorted.groupby([\"patient\"])['handling'].shift(1).fillna(\"Start\")\n",
    "patients_sorted['consequent'] = patients_sorted['handling']"
   ],
   "outputs": [],
   "metadata": {}
  },
  {
   "cell_type": "code",
   "execution_count": null,
   "source": [
    "(ggplot(patients_sorted, aes('consequent', 'antecedent', ))\n",
    " + geom_bin2d() \n",
    " + theme_bw()\n",
    " + theme(axis_text_x=element_text(rotation=45, hjust=1)))"
   ],
   "outputs": [],
   "metadata": {}
  },
  {
   "cell_type": "markdown",
   "source": [
    "### Directly-follows Graph / Process Map"
   ],
   "metadata": {}
  },
  {
   "cell_type": "code",
   "execution_count": null,
   "source": [
    "patients_log = pm4py.format_dataframe(patients_sorted, case_id='patient', activity_key='handling', timestamp_key='time')"
   ],
   "outputs": [],
   "metadata": {}
  },
  {
   "cell_type": "markdown",
   "source": [
    "The process map or directly-follows graph visualization in PM4Py cannot deal yet with `activity instances`, so we need to only focus on the `complete` events."
   ],
   "metadata": {}
  },
  {
   "cell_type": "code",
   "execution_count": null,
   "source": [
    "patients_log = patients_log[patients_log['registration_type'] == 'complete']"
   ],
   "outputs": [],
   "metadata": {}
  },
  {
   "cell_type": "code",
   "execution_count": null,
   "source": [
    "dfg, sa, ea = pm4py.discover_directly_follows_graph(patients_log)"
   ],
   "outputs": [],
   "metadata": {}
  },
  {
   "cell_type": "code",
   "execution_count": null,
   "source": [
    "pm4py.view_dfg(dfg, sa, ea)"
   ],
   "outputs": [],
   "metadata": {}
  },
  {
   "cell_type": "code",
   "execution_count": null,
   "source": [
    "from pm4py.algo.discovery.dfg import algorithm as dfg_discovery\n",
    "from pm4py.algo.discovery.dfg import algorithm as dfg_discovery\n",
    "from pm4py.visualization.dfg import visualizer as dfg_visualization\n",
    "\n",
    "dfg = dfg_discovery.apply(patients_log)\n",
    "\n",
    "dfg = dfg_discovery.apply(patients_log, variant=dfg_discovery.Variants.PERFORMANCE)\n",
    "gviz = dfg_visualization.apply(dfg, log=patients_log, variant=dfg_visualization.Variants.PERFORMANCE)\n",
    "dfg_visualization.view(gviz)"
   ],
   "outputs": [],
   "metadata": {}
  },
  {
   "cell_type": "markdown",
   "source": [
    "### Further Perspectives and Animation\n",
    "\n",
    "No such feature in PM4Py yet."
   ],
   "metadata": {}
  },
  {
   "cell_type": "markdown",
   "source": [
    "## Real-life Processes"
   ],
   "metadata": {}
  },
  {
   "cell_type": "code",
   "execution_count": null,
   "source": [
    "sepsis"
   ],
   "outputs": [],
   "metadata": {}
  },
  {
   "cell_type": "code",
   "execution_count": null,
   "source": [
    "sepsis_sorted = sepsis.sort_values(['timestamp'])\n",
    "sepsis_sorted['timestamp'] = pd.to_datetime(sepsis_sorted['timestamp'])"
   ],
   "outputs": [],
   "metadata": {}
  },
  {
   "cell_type": "code",
   "execution_count": null,
   "source": [
    "sepsis_sorted['antecedent'] = sepsis_sorted.groupby([\"case_id\"])['activity'].shift(1).fillna(\"Start\")\n",
    "sepsis_sorted['consequent'] = sepsis_sorted['activity']"
   ],
   "outputs": [],
   "metadata": {}
  },
  {
   "cell_type": "code",
   "execution_count": null,
   "source": [
    "(ggplot(sepsis_sorted, aes('consequent', 'antecedent', ))\n",
    " + geom_bin2d() \n",
    " + theme_bw()\n",
    " + theme(axis_text_x=element_text(rotation=45, hjust=1)))"
   ],
   "outputs": [],
   "metadata": {}
  },
  {
   "cell_type": "markdown",
   "source": [
    "### Challenge \n",
    "\n",
    "Draw the `sepsis` process map or directly-follows graph."
   ],
   "metadata": {}
  },
  {
   "cell_type": "code",
   "execution_count": null,
   "source": [],
   "outputs": [],
   "metadata": {}
  }
 ],
 "metadata": {
  "kernelspec": {
   "display_name": "Python 3",
   "language": "python",
   "name": "python3"
  },
  "language_info": {
   "codemirror_mode": {
    "name": "ipython",
    "version": 3
   },
   "file_extension": ".py",
   "mimetype": "text/x-python",
   "name": "python",
   "nbconvert_exporter": "python",
   "pygments_lexer": "ipython3",
   "version": "3.9.4"
  }
 },
 "nbformat": 4,
 "nbformat_minor": 4
}