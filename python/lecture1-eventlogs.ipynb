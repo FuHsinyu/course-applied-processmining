{
 "cells": [
  {
   "cell_type": "markdown",
   "metadata": {},
   "source": [
    "# Process Mining Module -  PDEng program Data Science - JADS \n",
    "\n",
    "This notebook is part of the Process Mining module of the JADS PDEng program on Data Science. It accompanies Lecture 1 on *Event Logs and Process Discovery*. \n",
    "The collection of notebooks is a *living document* and subject to change. \n",
    "\n",
    "# Lecture 1 - 'Event Logs and Process Discovery' (Python / PM4Py)\n",
    "\n",
    "* **Responsible Lecturer**: Dr. Felix Mannhardt, [@fmannhardt](https://twitter.com/fmannhardt)\n",
    "* **Last Update**: 21th April 2021"
   ]
  },
  {
   "cell_type": "markdown",
   "metadata": {},
   "source": [
    "## Setup\n",
    "\n",
    "<img src=\"https://pm4py.fit.fraunhofer.de/static/assets/images/pm4py-site-logo-padded.png\" alt=\"Drawing\" style=\"width: 200px;\"/>\n",
    "\n",
    "For this lecture, we are using the [PM4Py library](https://pm4py.fit.fraunhofer.de/) in combination with several standard Python data science libraries:\n",
    "\n",
    "* pandas\n",
    "* matplotlib"
   ]
  },
  {
   "cell_type": "code",
   "execution_count": 9,
   "metadata": {},
   "outputs": [],
   "source": [
    "## Perform the commented out commands to install the dependencies\n",
    "# %pip install pandas\n",
    "# %pip install matplotlib\n",
    "# %pip install pm4py"
   ]
  },
  {
   "cell_type": "code",
   "execution_count": 32,
   "metadata": {},
   "outputs": [],
   "source": [
    "import pandas\n",
    "import matplotlib\n",
    "import pm4py\n",
    "import plotnine"
   ]
  },
  {
   "cell_type": "markdown",
   "metadata": {},
   "source": [
    "## Event Logs\n",
    "\n",
    "This part introduces event logs and their unique properties that provide the basis for any Process Mining method. We use the same event logs as provided by `bupaR`. However, we need to load them from the CSV files in the `data` directory of this repository. In this lecture we are going to make use of the following datasets:\n",
    "\n",
    "* Patients, a synthetically generated example event log in a hospital setting.\n",
    "* Sepsis, a real-life event log taken from a Dutch hospital. The event log is publicly available here: https://doi.org/10.4121/uuid:915d2bfb-7e84-49ad-a286-dc35f063a460 and has been used in many Process Mining related publications."
   ]
  },
  {
   "cell_type": "markdown",
   "metadata": {},
   "source": [
    "### Import Patients Data"
   ]
  },
  {
   "cell_type": "code",
   "execution_count": 13,
   "metadata": {},
   "outputs": [
    {
     "name": "stdout",
     "output_type": "stream",
     "text": [
      "Number of rows: 5442\n"
     ]
    }
   ],
   "source": [
    "patients = pandas.read_csv(\"../data/patients.csv\", sep=';')\n",
    "num_rows = len(patients)\n",
    "print(\"Number of rows: {}\".format(num_rows))"
   ]
  },
  {
   "cell_type": "markdown",
   "metadata": {},
   "source": [
    "### Import Sepsis Data"
   ]
  },
  {
   "cell_type": "code",
   "execution_count": 12,
   "metadata": {},
   "outputs": [
    {
     "name": "stdout",
     "output_type": "stream",
     "text": [
      "Number of rows: 15214\n"
     ]
    }
   ],
   "source": [
    "sepsis = pandas.read_csv(\"../data/sepsis.csv\", sep=';')\n",
    "num_rows = len(sepsis)\n",
    "print(\"Number of rows: {}\".format(num_rows))"
   ]
  },
  {
   "cell_type": "markdown",
   "metadata": {},
   "source": [
    "### Exploring Event Data\n",
    "\n",
    "Let us first explore the event data without any prior knowledge about event log structure or properties. We convert the `patients` event log below to a standard `tibble` (https://tibble.tidyverse.org/) and inspect the first rows."
   ]
  },
  {
   "cell_type": "code",
   "execution_count": 25,
   "metadata": {},
   "outputs": [
    {
     "data": {
      "text/html": [
       "<div>\n",
       "<style scoped>\n",
       "    .dataframe tbody tr th:only-of-type {\n",
       "        vertical-align: middle;\n",
       "    }\n",
       "\n",
       "    .dataframe tbody tr th {\n",
       "        vertical-align: top;\n",
       "    }\n",
       "\n",
       "    .dataframe thead th {\n",
       "        text-align: right;\n",
       "    }\n",
       "</style>\n",
       "<table border=\"1\" class=\"dataframe\">\n",
       "  <thead>\n",
       "    <tr style=\"text-align: right;\">\n",
       "      <th></th>\n",
       "      <th>handling</th>\n",
       "      <th>patient</th>\n",
       "      <th>employee</th>\n",
       "      <th>handling_id</th>\n",
       "      <th>registration_type</th>\n",
       "      <th>time</th>\n",
       "      <th>.order</th>\n",
       "    </tr>\n",
       "  </thead>\n",
       "  <tbody>\n",
       "    <tr>\n",
       "      <th>0</th>\n",
       "      <td>Registration</td>\n",
       "      <td>1</td>\n",
       "      <td>r1</td>\n",
       "      <td>1</td>\n",
       "      <td>start</td>\n",
       "      <td>2017-01-02T11:41:53Z</td>\n",
       "      <td>1</td>\n",
       "    </tr>\n",
       "    <tr>\n",
       "      <th>1</th>\n",
       "      <td>Registration</td>\n",
       "      <td>2</td>\n",
       "      <td>r1</td>\n",
       "      <td>2</td>\n",
       "      <td>start</td>\n",
       "      <td>2017-01-02T11:41:53Z</td>\n",
       "      <td>2</td>\n",
       "    </tr>\n",
       "    <tr>\n",
       "      <th>2</th>\n",
       "      <td>Registration</td>\n",
       "      <td>3</td>\n",
       "      <td>r1</td>\n",
       "      <td>3</td>\n",
       "      <td>start</td>\n",
       "      <td>2017-01-04T01:34:05Z</td>\n",
       "      <td>3</td>\n",
       "    </tr>\n",
       "    <tr>\n",
       "      <th>3</th>\n",
       "      <td>Registration</td>\n",
       "      <td>4</td>\n",
       "      <td>r1</td>\n",
       "      <td>4</td>\n",
       "      <td>start</td>\n",
       "      <td>2017-01-04T01:34:04Z</td>\n",
       "      <td>4</td>\n",
       "    </tr>\n",
       "    <tr>\n",
       "      <th>4</th>\n",
       "      <td>Registration</td>\n",
       "      <td>5</td>\n",
       "      <td>r1</td>\n",
       "      <td>5</td>\n",
       "      <td>start</td>\n",
       "      <td>2017-01-04T16:07:47Z</td>\n",
       "      <td>5</td>\n",
       "    </tr>\n",
       "  </tbody>\n",
       "</table>\n",
       "</div>"
      ],
      "text/plain": [
       "       handling  patient employee  handling_id registration_type  \\\n",
       "0  Registration        1       r1            1             start   \n",
       "1  Registration        2       r1            2             start   \n",
       "2  Registration        3       r1            3             start   \n",
       "3  Registration        4       r1            4             start   \n",
       "4  Registration        5       r1            5             start   \n",
       "\n",
       "                   time  .order  \n",
       "0  2017-01-02T11:41:53Z       1  \n",
       "1  2017-01-02T11:41:53Z       2  \n",
       "2  2017-01-04T01:34:05Z       3  \n",
       "3  2017-01-04T01:34:04Z       4  \n",
       "4  2017-01-04T16:07:47Z       5  "
      ]
     },
     "execution_count": 25,
     "metadata": {},
     "output_type": "execute_result"
    }
   ],
   "source": [
    "patients.head()"
   ]
  },
  {
   "cell_type": "code",
   "execution_count": 39,
   "metadata": {},
   "outputs": [
    {
     "data": {
      "image/png": "[encoded data removed]",
      "text/plain": [
       "<Figure size 640x480 with 1 Axes>"
      ]
     },
     "metadata": {},
     "output_type": "display_data"
    },
    {
     "data": {
      "text/plain": [
       "<ggplot: (154016280754)>"
      ]
     },
     "execution_count": 39,
     "metadata": {},
     "output_type": "execute_result"
    }
   ],
   "source": [
    "from plotnine import ggplot, geom_point, aes, theme_bw\n",
    "\n",
    "patients_sample = patients[patients['time'] < '2017-01-31']\n",
    "(ggplot(patients_sample, aes('time', 0))\n",
    " + geom_point() \n",
    " + theme_bw())"
   ]
  },
  {
   "cell_type": "code",
   "execution_count": null,
   "metadata": {},
   "outputs": [],
   "source": []
  }
 ],
 "metadata": {
  "kernelspec": {
   "display_name": "Python 3",
   "language": "python",
   "name": "python3"
  },
  "language_info": {
   "codemirror_mode": {
    "name": "ipython",
    "version": 3
   },
   "file_extension": ".py",
   "mimetype": "text/x-python",
   "name": "python",
   "nbconvert_exporter": "python",
   "pygments_lexer": "ipython3",
   "version": "3.9.4"
  }
 },
 "nbformat": 4,
 "nbformat_minor": 4
}
