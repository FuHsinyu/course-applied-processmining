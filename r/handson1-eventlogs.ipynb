{
 "cells": [
  {
   "cell_type": "markdown",
   "metadata": {
    "tags": []
   },
   "source": [
    "# Process Mining Module -  PDEng program Data Science\n",
    "\n",
    "This notebook is part of the Process Mining module of the JADS PDEng program on Data Science. It accompanies Assignment 1 on *Event Logs and Process Visualization*. \n",
    "The collection of notebooks is a *living document* and subject to change. \n",
    "\n",
    "# Hands-On 1 - 'Event Logs and Process Visualization' (R / bupaR)\n",
    "\n",
    "* **Responsible Lecturer**: Dr. Felix Mannhardt, [@fmannhardt](https://twitter.com/fmannhardt)\n",
    "* **Last Update**: 21th April 2021"
   ]
  },
  {
   "cell_type": "markdown",
   "metadata": {},
   "source": [
    "## Setup\n",
    "\n",
    "<img src=\"http://bupar.net/images/logo_text.PNG\" alt=\"bupaR\" style=\"width: 200px;\"/>\n",
    "\n",
    "In this notebook, we are going to need the `tidyverse` and the `bupaR` packages."
   ]
  },
  {
   "cell_type": "code",
   "execution_count": 23,
   "metadata": {},
   "outputs": [],
   "source": [
    "## Perform the commented out commands below in a separate R session\n",
    "# install.packages(\"tidyverse\")\n",
    "# install.packages(\"bupaR\")"
   ]
  },
  {
   "cell_type": "code",
   "execution_count": 24,
   "metadata": {},
   "outputs": [],
   "source": [
    "# for larger and readable plots\n",
    "options(jupyter.plot_scale=1.25)"
   ]
  },
  {
   "cell_type": "code",
   "execution_count": 25,
   "metadata": {},
   "outputs": [],
   "source": [
    "# the initial execution of these may give you warnings that you can safely ignore\n",
    "library(tidyverse)\n",
    "library(bupaR)\n",
    "library(processanimateR)"
   ]
  },
  {
   "cell_type": "markdown",
   "metadata": {},
   "source": [
    "## Assignment"
   ]
  },
  {
   "cell_type": "markdown",
   "metadata": {},
   "source": [
    "In this hands-on session, you are going to explore a real-life dataset and apply what was presented in the lecture about event logs and basic process mining visualizations.\n",
    "The objective is to explore your dataset and as an event log and with the learned process mining visualizations in mind.\n",
    "\n",
    "* Analyse basic properties of the the process (business process or other process) that has generated it. \n",
    "    * What are possible case notions / what is the or what are the case identifiers?\n",
    "    * What are the activities? Are all activities on the same abstraction level? Can activities be derived from other data?\n",
    "    * Can activities or actions be derived from other (non-activity) data?\n",
    "* Discovery a map of the process (or a sub-process) behind it.\n",
    "    * Are there multiple processes that can be discovered?\n",
    "    * What is the effect of taking a subset of the data (by incident type, …)? "
   ]
  },
  {
   "cell_type": "markdown",
   "metadata": {},
   "source": [
    "You may use this notebook to conduct the analysis."
   ]
  },
  {
   "cell_type": "markdown",
   "metadata": {},
   "source": [
    "## Dataset"
   ]
  },
  {
   "cell_type": "markdown",
   "metadata": {},
   "source": [
    "The proposed real-life dataset to investigate is the *BPI Challenge 2014* dataset. The dataset is captured from the ITIL process of Rabobank Group ICT and has been subject to the yearly BPI challenge in 2014. Here is more informaation on the dataset and downloads links to the data files:\n",
    "\n",
    "* [Overview](https://www.win.tue.nl/bpi/doku.php?id=2014:challenge)\n",
    "* [Dataset](http://dx.doi.org/10.4121/uuid:c3e5d162-0cfd-4bb0-bd82-af5268819c35)\n",
    "* [Quick Reference](https://www.win.tue.nl/bpi/lib/exe/fetch.php?media=2014:quick_reference_bpi_challenge_2014.pdf)\n",
    "\n",
    "On the BPI Challenge 2014 website above, there are also several reports that describe and analyze the dataset in detail. We suggest to first explore the dataset without reading the reports."
   ]
  },
  {
   "cell_type": "markdown",
   "metadata": {},
   "source": [
    "## Data Loading"
   ]
  },
  {
   "cell_type": "markdown",
   "metadata": {},
   "source": [
    "To simplify the data loading task, here are the initial steps:"
   ]
  },
  {
   "cell_type": "code",
   "execution_count": 26,
   "metadata": {},
   "outputs": [
    {
     "name": "stderr",
     "output_type": "stream",
     "text": [
      "\u001b[36mi\u001b[39m Using \u001b[34m\u001b[34m','\u001b[34m\u001b[39m as decimal and \u001b[34m\u001b[34m'.'\u001b[34m\u001b[39m as grouping mark. Use \u001b[30m\u001b[47m\u001b[30m\u001b[47m`read_delim()`\u001b[47m\u001b[30m\u001b[49m\u001b[39m for more control.\n",
      "\n",
      "\n",
      "\u001b[36m--\u001b[39m \u001b[1m\u001b[1mColumn specification\u001b[1m\u001b[22m \u001b[36m------------------------------------------------------------------------------------------------\u001b[39m\n",
      "cols(\n",
      "  `CI Name (aff)` = \u001b[31mcol_character()\u001b[39m,\n",
      "  `CI Type (aff)` = \u001b[31mcol_character()\u001b[39m,\n",
      "  `CI Subtype (aff)` = \u001b[31mcol_character()\u001b[39m,\n",
      "  `Service Comp WBS (aff)` = \u001b[31mcol_character()\u001b[39m,\n",
      "  `Interaction ID` = \u001b[31mcol_character()\u001b[39m,\n",
      "  Status = \u001b[31mcol_character()\u001b[39m,\n",
      "  Impact = \u001b[32mcol_double()\u001b[39m,\n",
      "  Urgency = \u001b[32mcol_double()\u001b[39m,\n",
      "  Priority = \u001b[32mcol_double()\u001b[39m,\n",
      "  Category = \u001b[31mcol_character()\u001b[39m,\n",
      "  `KM number` = \u001b[31mcol_character()\u001b[39m,\n",
      "  `Open Time (First Touch)` = \u001b[31mcol_character()\u001b[39m,\n",
      "  `Close Time` = \u001b[31mcol_character()\u001b[39m,\n",
      "  `Closure Code` = \u001b[31mcol_character()\u001b[39m,\n",
      "  `First Call Resolution` = \u001b[31mcol_character()\u001b[39m,\n",
      "  `Handle Time (secs)` = \u001b[32mcol_double()\u001b[39m,\n",
      "  `Related Incident` = \u001b[31mcol_character()\u001b[39m\n",
      ")\n",
      "\n",
      "\n",
      "Warning message:\n",
      "\"1 parsing failure.\n",
      "   row     col               expected       actual                                             file\n",
      "117386 Urgency no trailing characters 5 - Very Low 'https://data.4tu.nl/ndownloader/files/24031670'\n",
      "\"\n",
      "\u001b[36mi\u001b[39m Using \u001b[34m\u001b[34m','\u001b[34m\u001b[39m as decimal and \u001b[34m\u001b[34m'.'\u001b[34m\u001b[39m as grouping mark. Use \u001b[30m\u001b[47m\u001b[30m\u001b[47m`read_delim()`\u001b[47m\u001b[30m\u001b[49m\u001b[39m for more control.\n",
      "\n",
      "Warning message:\n",
      "\"Missing column names filled in: 'X29' [29], 'X30' [30], 'X31' [31], 'X32' [32], 'X33' [33], 'X34' [34], 'X35' [35], 'X36' [36], 'X37' [37], 'X38' [38], 'X39' [39], 'X40' [40], 'X41' [41], 'X42' [42], 'X43' [43], 'X44' [44], 'X45' [45], 'X46' [46], 'X47' [47], 'X48' [48], 'X49' [49], 'X50' [50], 'X51' [51], 'X52' [52], 'X53' [53], 'X54' [54], 'X55' [55], 'X56' [56], 'X57' [57], 'X58' [58], 'X59' [59], 'X60' [60], 'X61' [61], 'X62' [62], 'X63' [63], 'X64' [64], 'X65' [65], 'X66' [66], 'X67' [67], 'X68' [68], 'X69' [69], 'X70' [70], 'X71' [71], 'X72' [72], 'X73' [73], 'X74' [74], 'X75' [75], 'X76' [76], 'X77' [77], 'X78' [78]\"\n",
      "\n",
      "\u001b[36m--\u001b[39m \u001b[1m\u001b[1mColumn specification\u001b[1m\u001b[22m \u001b[36m------------------------------------------------------------------------------------------------\u001b[39m\n",
      "cols(\n",
      "  .default = col_logical(),\n",
      "  `CI Name (aff)` = \u001b[31mcol_character()\u001b[39m,\n",
      "  `CI Type (aff)` = \u001b[31mcol_character()\u001b[39m,\n",
      "  `CI Subtype (aff)` = \u001b[31mcol_character()\u001b[39m,\n",
      "  `Service Component WBS (aff)` = \u001b[31mcol_character()\u001b[39m,\n",
      "  `Incident ID` = \u001b[31mcol_character()\u001b[39m,\n",
      "  Status = \u001b[31mcol_character()\u001b[39m,\n",
      "  Impact = \u001b[32mcol_double()\u001b[39m,\n",
      "  Urgency = \u001b[32mcol_double()\u001b[39m,\n",
      "  Priority = \u001b[32mcol_double()\u001b[39m,\n",
      "  Category = \u001b[31mcol_character()\u001b[39m,\n",
      "  `KM number` = \u001b[31mcol_character()\u001b[39m,\n",
      "  `Alert Status` = \u001b[31mcol_character()\u001b[39m,\n",
      "  `# Reassignments` = \u001b[32mcol_double()\u001b[39m,\n",
      "  `Open Time` = \u001b[31mcol_character()\u001b[39m,\n",
      "  `Reopen Time` = \u001b[31mcol_character()\u001b[39m,\n",
      "  `Resolved Time` = \u001b[31mcol_character()\u001b[39m,\n",
      "  `Close Time` = \u001b[31mcol_character()\u001b[39m,\n",
      "  `Handle Time (Hours)` = \u001b[32mcol_double()\u001b[39m,\n",
      "  `Closure Code` = \u001b[31mcol_character()\u001b[39m,\n",
      "  `# Related Interactions` = \u001b[32mcol_double()\u001b[39m\n",
      "  # ... with 8 more columns\n",
      ")\n",
      "\u001b[36mi\u001b[39m Use \u001b[30m\u001b[47m\u001b[30m\u001b[47m`spec()`\u001b[47m\u001b[30m\u001b[49m\u001b[39m for the full column specifications.\n",
      "\n",
      "\n",
      "Warning message:\n",
      "\"1 parsing failure.\n",
      "  row     col               expected       actual                                             file\n",
      "38306 Urgency no trailing characters 5 - Very Low 'https://data.4tu.nl/ndownloader/files/24031637'\n",
      "\"\n",
      "\u001b[36mi\u001b[39m Using \u001b[34m\u001b[34m','\u001b[34m\u001b[39m as decimal and \u001b[34m\u001b[34m'.'\u001b[34m\u001b[39m as grouping mark. Use \u001b[30m\u001b[47m\u001b[30m\u001b[47m`read_delim()`\u001b[47m\u001b[30m\u001b[49m\u001b[39m for more control.\n",
      "\n",
      "\n",
      "\u001b[36m--\u001b[39m \u001b[1m\u001b[1mColumn specification\u001b[1m\u001b[22m \u001b[36m------------------------------------------------------------------------------------------------\u001b[39m\n",
      "cols(\n",
      "  `Incident ID` = \u001b[31mcol_character()\u001b[39m,\n",
      "  DateStamp = \u001b[31mcol_character()\u001b[39m,\n",
      "  IncidentActivity_Number = \u001b[31mcol_character()\u001b[39m,\n",
      "  IncidentActivity_Type = \u001b[31mcol_character()\u001b[39m,\n",
      "  `Assignment Group` = \u001b[31mcol_character()\u001b[39m,\n",
      "  `KM number` = \u001b[31mcol_character()\u001b[39m,\n",
      "  `Interaction ID` = \u001b[31mcol_character()\u001b[39m\n",
      ")\n",
      "\n",
      "\n",
      "\u001b[36mi\u001b[39m Using \u001b[34m\u001b[34m','\u001b[34m\u001b[39m as decimal and \u001b[34m\u001b[34m'.'\u001b[34m\u001b[39m as grouping mark. Use \u001b[30m\u001b[47m\u001b[30m\u001b[47m`read_delim()`\u001b[47m\u001b[30m\u001b[49m\u001b[39m for more control.\n",
      "\n",
      "\n",
      "\u001b[36m--\u001b[39m \u001b[1m\u001b[1mColumn specification\u001b[1m\u001b[22m \u001b[36m------------------------------------------------------------------------------------------------\u001b[39m\n",
      "cols(\n",
      "  .default = col_character(),\n",
      "  `# Related Interactions` = \u001b[32mcol_double()\u001b[39m,\n",
      "  `# Related Incidents` = \u001b[32mcol_double()\u001b[39m\n",
      ")\n",
      "\u001b[36mi\u001b[39m Use \u001b[30m\u001b[47m\u001b[30m\u001b[47m`spec()`\u001b[47m\u001b[30m\u001b[49m\u001b[39m for the full column specifications.\n",
      "\n",
      "\n"
     ]
    }
   ],
   "source": [
    "# some warnings are expected here\n",
    "interaction_data <- read_csv2(\"https://data.4tu.nl/ndownloader/files/24031670\")\n",
    "incident_data <- read_csv2(\"https://data.4tu.nl/ndownloader/files/24031637\")\n",
    "activity_log_incidents <- read_csv2(\"https://data.4tu.nl/ndownloader/files/24060575\")\n",
    "change_data <- read_csv2(\"https://data.4tu.nl/ndownloader/files/24073421\")"
   ]
  },
  {
   "cell_type": "code",
   "execution_count": 27,
   "metadata": {},
   "outputs": [
    {
     "data": {
      "text/html": [
       "<table class=\"dataframe\">\n",
       "<caption>A tibble: 6 × 17</caption>\n",
       "<thead>\n",
       "\t<tr><th scope=col>CI Name (aff)</th><th scope=col>CI Type (aff)</th><th scope=col>CI Subtype (aff)</th><th scope=col>Service Comp WBS (aff)</th><th scope=col>Interaction ID</th><th scope=col>Status</th><th scope=col>Impact</th><th scope=col>Urgency</th><th scope=col>Priority</th><th scope=col>Category</th><th scope=col>KM number</th><th scope=col>Open Time (First Touch)</th><th scope=col>Close Time</th><th scope=col>Closure Code</th><th scope=col>First Call Resolution</th><th scope=col>Handle Time (secs)</th><th scope=col>Related Incident</th></tr>\n",
       "\t<tr><th scope=col>&lt;chr&gt;</th><th scope=col>&lt;chr&gt;</th><th scope=col>&lt;chr&gt;</th><th scope=col>&lt;chr&gt;</th><th scope=col>&lt;chr&gt;</th><th scope=col>&lt;chr&gt;</th><th scope=col>&lt;dbl&gt;</th><th scope=col>&lt;dbl&gt;</th><th scope=col>&lt;dbl&gt;</th><th scope=col>&lt;chr&gt;</th><th scope=col>&lt;chr&gt;</th><th scope=col>&lt;chr&gt;</th><th scope=col>&lt;chr&gt;</th><th scope=col>&lt;chr&gt;</th><th scope=col>&lt;chr&gt;</th><th scope=col>&lt;dbl&gt;</th><th scope=col>&lt;chr&gt;</th></tr>\n",
       "</thead>\n",
       "<tbody>\n",
       "\t<tr><td>SBA000243</td><td>application   </td><td>Server Based Application</td><td>WBS000125</td><td>SD0000001</td><td>Closed</td><td>5</td><td>4</td><td>4</td><td>incident               </td><td>KM0000987</td><td>9-9-2011 9:23   </td><td>14-2-2014 9:05  </td><td>Other   </td><td>N</td><td>239</td><td>IM0000001</td></tr>\n",
       "\t<tr><td>SUB000443</td><td>subapplication</td><td>Web Based Application   </td><td>WBS000125</td><td>SD0000002</td><td>Closed</td><td>4</td><td>4</td><td>4</td><td>request for information</td><td>KM0000989</td><td>29-9-2011 14:59 </td><td>13-12-2013 16:27</td><td>Software</td><td>N</td><td>406</td><td>IM0000001</td></tr>\n",
       "\t<tr><td>LAP000110</td><td>computer      </td><td>Laptop                  </td><td>WBS000187</td><td>SD0000003</td><td>Closed</td><td>4</td><td>4</td><td>4</td><td>incident               </td><td>KM0000317</td><td>13-10-2011 15:47</td><td>21-10-2013 5:01 </td><td>Software</td><td>N</td><td>738</td><td>NA       </td></tr>\n",
       "\t<tr><td>DTA000110</td><td>application   </td><td>Desktop Application     </td><td>WBS000256</td><td>SD0000004</td><td>Closed</td><td>4</td><td>4</td><td>4</td><td>incident               </td><td>KM0000057</td><td>1-12-2011 15:39 </td><td>21-10-2013 5:02 </td><td>Unknown </td><td>N</td><td>787</td><td>NA       </td></tr>\n",
       "\t<tr><td>SBA000855</td><td>application   </td><td>Server Based Application</td><td>WBS000054</td><td>SD0000005</td><td>Closed</td><td>4</td><td>4</td><td>4</td><td>incident               </td><td>KM0000652</td><td>23-12-2011 16:23</td><td>21-10-2013 5:02 </td><td>Software</td><td>N</td><td>459</td><td>IM0000003</td></tr>\n",
       "\t<tr><td>SUB000424</td><td>subapplication</td><td>Web Based Application   </td><td>WBS000073</td><td>SD0000006</td><td>Closed</td><td>4</td><td>4</td><td>4</td><td>incident               </td><td>KM0000702</td><td>16-1-2012 14:09 </td><td>21-10-2013 5:03 </td><td>Other   </td><td>N</td><td>412</td><td>NA       </td></tr>\n",
       "</tbody>\n",
       "</table>\n"
      ],
      "text/latex": [
       "A tibble: 6 × 17\n",
       "\\begin{tabular}{lllllllllllllllll}\n",
       " CI Name (aff) & CI Type (aff) & CI Subtype (aff) & Service Comp WBS (aff) & Interaction ID & Status & Impact & Urgency & Priority & Category & KM number & Open Time (First Touch) & Close Time & Closure Code & First Call Resolution & Handle Time (secs) & Related Incident\\\\\n",
       " <chr> & <chr> & <chr> & <chr> & <chr> & <chr> & <dbl> & <dbl> & <dbl> & <chr> & <chr> & <chr> & <chr> & <chr> & <chr> & <dbl> & <chr>\\\\\n",
       "\\hline\n",
       "\t SBA000243 & application    & Server Based Application & WBS000125 & SD0000001 & Closed & 5 & 4 & 4 & incident                & KM0000987 & 9-9-2011 9:23    & 14-2-2014 9:05   & Other    & N & 239 & IM0000001\\\\\n",
       "\t SUB000443 & subapplication & Web Based Application    & WBS000125 & SD0000002 & Closed & 4 & 4 & 4 & request for information & KM0000989 & 29-9-2011 14:59  & 13-12-2013 16:27 & Software & N & 406 & IM0000001\\\\\n",
       "\t LAP000110 & computer       & Laptop                   & WBS000187 & SD0000003 & Closed & 4 & 4 & 4 & incident                & KM0000317 & 13-10-2011 15:47 & 21-10-2013 5:01  & Software & N & 738 & NA       \\\\\n",
       "\t DTA000110 & application    & Desktop Application      & WBS000256 & SD0000004 & Closed & 4 & 4 & 4 & incident                & KM0000057 & 1-12-2011 15:39  & 21-10-2013 5:02  & Unknown  & N & 787 & NA       \\\\\n",
       "\t SBA000855 & application    & Server Based Application & WBS000054 & SD0000005 & Closed & 4 & 4 & 4 & incident                & KM0000652 & 23-12-2011 16:23 & 21-10-2013 5:02  & Software & N & 459 & IM0000003\\\\\n",
       "\t SUB000424 & subapplication & Web Based Application    & WBS000073 & SD0000006 & Closed & 4 & 4 & 4 & incident                & KM0000702 & 16-1-2012 14:09  & 21-10-2013 5:03  & Other    & N & 412 & NA       \\\\\n",
       "\\end{tabular}\n"
      ],
      "text/markdown": [
       "\n",
       "A tibble: 6 × 17\n",
       "\n",
       "| CI Name (aff) &lt;chr&gt; | CI Type (aff) &lt;chr&gt; | CI Subtype (aff) &lt;chr&gt; | Service Comp WBS (aff) &lt;chr&gt; | Interaction ID &lt;chr&gt; | Status &lt;chr&gt; | Impact &lt;dbl&gt; | Urgency &lt;dbl&gt; | Priority &lt;dbl&gt; | Category &lt;chr&gt; | KM number &lt;chr&gt; | Open Time (First Touch) &lt;chr&gt; | Close Time &lt;chr&gt; | Closure Code &lt;chr&gt; | First Call Resolution &lt;chr&gt; | Handle Time (secs) &lt;dbl&gt; | Related Incident &lt;chr&gt; |\n",
       "|---|---|---|---|---|---|---|---|---|---|---|---|---|---|---|---|---|\n",
       "| SBA000243 | application    | Server Based Application | WBS000125 | SD0000001 | Closed | 5 | 4 | 4 | incident                | KM0000987 | 9-9-2011 9:23    | 14-2-2014 9:05   | Other    | N | 239 | IM0000001 |\n",
       "| SUB000443 | subapplication | Web Based Application    | WBS000125 | SD0000002 | Closed | 4 | 4 | 4 | request for information | KM0000989 | 29-9-2011 14:59  | 13-12-2013 16:27 | Software | N | 406 | IM0000001 |\n",
       "| LAP000110 | computer       | Laptop                   | WBS000187 | SD0000003 | Closed | 4 | 4 | 4 | incident                | KM0000317 | 13-10-2011 15:47 | 21-10-2013 5:01  | Software | N | 738 | NA        |\n",
       "| DTA000110 | application    | Desktop Application      | WBS000256 | SD0000004 | Closed | 4 | 4 | 4 | incident                | KM0000057 | 1-12-2011 15:39  | 21-10-2013 5:02  | Unknown  | N | 787 | NA        |\n",
       "| SBA000855 | application    | Server Based Application | WBS000054 | SD0000005 | Closed | 4 | 4 | 4 | incident                | KM0000652 | 23-12-2011 16:23 | 21-10-2013 5:02  | Software | N | 459 | IM0000003 |\n",
       "| SUB000424 | subapplication | Web Based Application    | WBS000073 | SD0000006 | Closed | 4 | 4 | 4 | incident                | KM0000702 | 16-1-2012 14:09  | 21-10-2013 5:03  | Other    | N | 412 | NA        |\n",
       "\n"
      ],
      "text/plain": [
       "  CI Name (aff) CI Type (aff)  CI Subtype (aff)         Service Comp WBS (aff)\n",
       "1 SBA000243     application    Server Based Application WBS000125             \n",
       "2 SUB000443     subapplication Web Based Application    WBS000125             \n",
       "3 LAP000110     computer       Laptop                   WBS000187             \n",
       "4 DTA000110     application    Desktop Application      WBS000256             \n",
       "5 SBA000855     application    Server Based Application WBS000054             \n",
       "6 SUB000424     subapplication Web Based Application    WBS000073             \n",
       "  Interaction ID Status Impact Urgency Priority Category               \n",
       "1 SD0000001      Closed 5      4       4        incident               \n",
       "2 SD0000002      Closed 4      4       4        request for information\n",
       "3 SD0000003      Closed 4      4       4        incident               \n",
       "4 SD0000004      Closed 4      4       4        incident               \n",
       "5 SD0000005      Closed 4      4       4        incident               \n",
       "6 SD0000006      Closed 4      4       4        incident               \n",
       "  KM number Open Time (First Touch) Close Time       Closure Code\n",
       "1 KM0000987 9-9-2011 9:23           14-2-2014 9:05   Other       \n",
       "2 KM0000989 29-9-2011 14:59         13-12-2013 16:27 Software    \n",
       "3 KM0000317 13-10-2011 15:47        21-10-2013 5:01  Software    \n",
       "4 KM0000057 1-12-2011 15:39         21-10-2013 5:02  Unknown     \n",
       "5 KM0000652 23-12-2011 16:23        21-10-2013 5:02  Software    \n",
       "6 KM0000702 16-1-2012 14:09         21-10-2013 5:03  Other       \n",
       "  First Call Resolution Handle Time (secs) Related Incident\n",
       "1 N                     239                IM0000001       \n",
       "2 N                     406                IM0000001       \n",
       "3 N                     738                NA              \n",
       "4 N                     787                NA              \n",
       "5 N                     459                IM0000003       \n",
       "6 N                     412                NA              "
      ]
     },
     "metadata": {},
     "output_type": "display_data"
    }
   ],
   "source": [
    "interaction_data %>% head()"
   ]
  },
  {
   "cell_type": "code",
   "execution_count": 28,
   "metadata": {},
   "outputs": [
    {
     "data": {
      "text/html": [
       "<table class=\"dataframe\">\n",
       "<caption>A tibble: 6 × 78</caption>\n",
       "<thead>\n",
       "\t<tr><th scope=col>CI Name (aff)</th><th scope=col>CI Type (aff)</th><th scope=col>CI Subtype (aff)</th><th scope=col>Service Component WBS (aff)</th><th scope=col>Incident ID</th><th scope=col>Status</th><th scope=col>Impact</th><th scope=col>Urgency</th><th scope=col>Priority</th><th scope=col>Category</th><th scope=col>...</th><th scope=col>X69</th><th scope=col>X70</th><th scope=col>X71</th><th scope=col>X72</th><th scope=col>X73</th><th scope=col>X74</th><th scope=col>X75</th><th scope=col>X76</th><th scope=col>X77</th><th scope=col>X78</th></tr>\n",
       "\t<tr><th scope=col>&lt;chr&gt;</th><th scope=col>&lt;chr&gt;</th><th scope=col>&lt;chr&gt;</th><th scope=col>&lt;chr&gt;</th><th scope=col>&lt;chr&gt;</th><th scope=col>&lt;chr&gt;</th><th scope=col>&lt;dbl&gt;</th><th scope=col>&lt;dbl&gt;</th><th scope=col>&lt;dbl&gt;</th><th scope=col>&lt;chr&gt;</th><th scope=col>...</th><th scope=col>&lt;lgl&gt;</th><th scope=col>&lt;lgl&gt;</th><th scope=col>&lt;lgl&gt;</th><th scope=col>&lt;lgl&gt;</th><th scope=col>&lt;lgl&gt;</th><th scope=col>&lt;lgl&gt;</th><th scope=col>&lt;lgl&gt;</th><th scope=col>&lt;lgl&gt;</th><th scope=col>&lt;lgl&gt;</th><th scope=col>&lt;lgl&gt;</th></tr>\n",
       "</thead>\n",
       "<tbody>\n",
       "\t<tr><td>SUB000508</td><td>subapplication</td><td>Web Based Application</td><td>WBS000162</td><td>IM0000004</td><td>Closed</td><td>4</td><td>4</td><td>4</td><td>incident               </td><td>...</td><td>NA</td><td>NA</td><td>NA</td><td>NA</td><td>NA</td><td>NA</td><td>NA</td><td>NA</td><td>NA</td><td>NA</td></tr>\n",
       "\t<tr><td>WBA000124</td><td>application   </td><td>Web Based Application</td><td>WBS000088</td><td>IM0000005</td><td>Closed</td><td>3</td><td>3</td><td>3</td><td>incident               </td><td>...</td><td>NA</td><td>NA</td><td>NA</td><td>NA</td><td>NA</td><td>NA</td><td>NA</td><td>NA</td><td>NA</td><td>NA</td></tr>\n",
       "\t<tr><td>DTA000024</td><td>application   </td><td>Desktop Application  </td><td>WBS000092</td><td>IM0000006</td><td>Closed</td><td>3</td><td>3</td><td>3</td><td>request for information</td><td>...</td><td>NA</td><td>NA</td><td>NA</td><td>NA</td><td>NA</td><td>NA</td><td>NA</td><td>NA</td><td>NA</td><td>NA</td></tr>\n",
       "\t<tr><td>WBA000124</td><td>application   </td><td>Web Based Application</td><td>WBS000088</td><td>IM0000011</td><td>Closed</td><td>4</td><td>4</td><td>4</td><td>incident               </td><td>...</td><td>NA</td><td>NA</td><td>NA</td><td>NA</td><td>NA</td><td>NA</td><td>NA</td><td>NA</td><td>NA</td><td>NA</td></tr>\n",
       "\t<tr><td>WBA000124</td><td>application   </td><td>Web Based Application</td><td>WBS000088</td><td>IM0000012</td><td>Closed</td><td>4</td><td>4</td><td>4</td><td>incident               </td><td>...</td><td>NA</td><td>NA</td><td>NA</td><td>NA</td><td>NA</td><td>NA</td><td>NA</td><td>NA</td><td>NA</td><td>NA</td></tr>\n",
       "\t<tr><td>WBA000124</td><td>application   </td><td>Web Based Application</td><td>WBS000088</td><td>IM0000013</td><td>Closed</td><td>4</td><td>4</td><td>4</td><td>incident               </td><td>...</td><td>NA</td><td>NA</td><td>NA</td><td>NA</td><td>NA</td><td>NA</td><td>NA</td><td>NA</td><td>NA</td><td>NA</td></tr>\n",
       "</tbody>\n",
       "</table>\n"
      ],
      "text/latex": [
       "A tibble: 6 × 78\n",
       "\\begin{tabular}{lllllllllllllllllllll}\n",
       " CI Name (aff) & CI Type (aff) & CI Subtype (aff) & Service Component WBS (aff) & Incident ID & Status & Impact & Urgency & Priority & Category & ... & X69 & X70 & X71 & X72 & X73 & X74 & X75 & X76 & X77 & X78\\\\\n",
       " <chr> & <chr> & <chr> & <chr> & <chr> & <chr> & <dbl> & <dbl> & <dbl> & <chr> & ... & <lgl> & <lgl> & <lgl> & <lgl> & <lgl> & <lgl> & <lgl> & <lgl> & <lgl> & <lgl>\\\\\n",
       "\\hline\n",
       "\t SUB000508 & subapplication & Web Based Application & WBS000162 & IM0000004 & Closed & 4 & 4 & 4 & incident                & ... & NA & NA & NA & NA & NA & NA & NA & NA & NA & NA\\\\\n",
       "\t WBA000124 & application    & Web Based Application & WBS000088 & IM0000005 & Closed & 3 & 3 & 3 & incident                & ... & NA & NA & NA & NA & NA & NA & NA & NA & NA & NA\\\\\n",
       "\t DTA000024 & application    & Desktop Application   & WBS000092 & IM0000006 & Closed & 3 & 3 & 3 & request for information & ... & NA & NA & NA & NA & NA & NA & NA & NA & NA & NA\\\\\n",
       "\t WBA000124 & application    & Web Based Application & WBS000088 & IM0000011 & Closed & 4 & 4 & 4 & incident                & ... & NA & NA & NA & NA & NA & NA & NA & NA & NA & NA\\\\\n",
       "\t WBA000124 & application    & Web Based Application & WBS000088 & IM0000012 & Closed & 4 & 4 & 4 & incident                & ... & NA & NA & NA & NA & NA & NA & NA & NA & NA & NA\\\\\n",
       "\t WBA000124 & application    & Web Based Application & WBS000088 & IM0000013 & Closed & 4 & 4 & 4 & incident                & ... & NA & NA & NA & NA & NA & NA & NA & NA & NA & NA\\\\\n",
       "\\end{tabular}\n"
      ],
      "text/markdown": [
       "\n",
       "A tibble: 6 × 78\n",
       "\n",
       "| CI Name (aff) &lt;chr&gt; | CI Type (aff) &lt;chr&gt; | CI Subtype (aff) &lt;chr&gt; | Service Component WBS (aff) &lt;chr&gt; | Incident ID &lt;chr&gt; | Status &lt;chr&gt; | Impact &lt;dbl&gt; | Urgency &lt;dbl&gt; | Priority &lt;dbl&gt; | Category &lt;chr&gt; | ... ... | X69 &lt;lgl&gt; | X70 &lt;lgl&gt; | X71 &lt;lgl&gt; | X72 &lt;lgl&gt; | X73 &lt;lgl&gt; | X74 &lt;lgl&gt; | X75 &lt;lgl&gt; | X76 &lt;lgl&gt; | X77 &lt;lgl&gt; | X78 &lt;lgl&gt; |\n",
       "|---|---|---|---|---|---|---|---|---|---|---|---|---|---|---|---|---|---|---|---|---|\n",
       "| SUB000508 | subapplication | Web Based Application | WBS000162 | IM0000004 | Closed | 4 | 4 | 4 | incident                | ... | NA | NA | NA | NA | NA | NA | NA | NA | NA | NA |\n",
       "| WBA000124 | application    | Web Based Application | WBS000088 | IM0000005 | Closed | 3 | 3 | 3 | incident                | ... | NA | NA | NA | NA | NA | NA | NA | NA | NA | NA |\n",
       "| DTA000024 | application    | Desktop Application   | WBS000092 | IM0000006 | Closed | 3 | 3 | 3 | request for information | ... | NA | NA | NA | NA | NA | NA | NA | NA | NA | NA |\n",
       "| WBA000124 | application    | Web Based Application | WBS000088 | IM0000011 | Closed | 4 | 4 | 4 | incident                | ... | NA | NA | NA | NA | NA | NA | NA | NA | NA | NA |\n",
       "| WBA000124 | application    | Web Based Application | WBS000088 | IM0000012 | Closed | 4 | 4 | 4 | incident                | ... | NA | NA | NA | NA | NA | NA | NA | NA | NA | NA |\n",
       "| WBA000124 | application    | Web Based Application | WBS000088 | IM0000013 | Closed | 4 | 4 | 4 | incident                | ... | NA | NA | NA | NA | NA | NA | NA | NA | NA | NA |\n",
       "\n"
      ],
      "text/plain": [
       "  CI Name (aff) CI Type (aff)  CI Subtype (aff)     \n",
       "1 SUB000508     subapplication Web Based Application\n",
       "2 WBA000124     application    Web Based Application\n",
       "3 DTA000024     application    Desktop Application  \n",
       "4 WBA000124     application    Web Based Application\n",
       "5 WBA000124     application    Web Based Application\n",
       "6 WBA000124     application    Web Based Application\n",
       "  Service Component WBS (aff) Incident ID Status Impact Urgency Priority\n",
       "1 WBS000162                   IM0000004   Closed 4      4       4       \n",
       "2 WBS000088                   IM0000005   Closed 3      3       3       \n",
       "3 WBS000092                   IM0000006   Closed 3      3       3       \n",
       "4 WBS000088                   IM0000011   Closed 4      4       4       \n",
       "5 WBS000088                   IM0000012   Closed 4      4       4       \n",
       "6 WBS000088                   IM0000013   Closed 4      4       4       \n",
       "  Category                ... X69 X70 X71 X72 X73 X74 X75 X76 X77 X78\n",
       "1 incident                ... NA  NA  NA  NA  NA  NA  NA  NA  NA  NA \n",
       "2 incident                ... NA  NA  NA  NA  NA  NA  NA  NA  NA  NA \n",
       "3 request for information ... NA  NA  NA  NA  NA  NA  NA  NA  NA  NA \n",
       "4 incident                ... NA  NA  NA  NA  NA  NA  NA  NA  NA  NA \n",
       "5 incident                ... NA  NA  NA  NA  NA  NA  NA  NA  NA  NA \n",
       "6 incident                ... NA  NA  NA  NA  NA  NA  NA  NA  NA  NA "
      ]
     },
     "metadata": {},
     "output_type": "display_data"
    }
   ],
   "source": [
    "incident_data %>% head()"
   ]
  },
  {
   "cell_type": "code",
   "execution_count": 29,
   "metadata": {},
   "outputs": [
    {
     "data": {
      "text/html": [
       "<table class=\"dataframe\">\n",
       "<caption>A tibble: 6 × 7</caption>\n",
       "<thead>\n",
       "\t<tr><th scope=col>Incident ID</th><th scope=col>DateStamp</th><th scope=col>IncidentActivity_Number</th><th scope=col>IncidentActivity_Type</th><th scope=col>Assignment Group</th><th scope=col>KM number</th><th scope=col>Interaction ID</th></tr>\n",
       "\t<tr><th scope=col>&lt;chr&gt;</th><th scope=col>&lt;chr&gt;</th><th scope=col>&lt;chr&gt;</th><th scope=col>&lt;chr&gt;</th><th scope=col>&lt;chr&gt;</th><th scope=col>&lt;chr&gt;</th><th scope=col>&lt;chr&gt;</th></tr>\n",
       "</thead>\n",
       "<tbody>\n",
       "\t<tr><td>IM0000004</td><td>07-01-2013 08:17:17</td><td>001A3689763</td><td>Reassignment        </td><td>TEAM0001</td><td>KM0000553</td><td>SD0000007</td></tr>\n",
       "\t<tr><td>IM0000004</td><td>04-11-2013 13:41:30</td><td>001A5852941</td><td>Reassignment        </td><td>TEAM0002</td><td>KM0000553</td><td>SD0000007</td></tr>\n",
       "\t<tr><td>IM0000004</td><td>04-11-2013 13:41:30</td><td>001A5852943</td><td>Update from customer</td><td>TEAM0002</td><td>KM0000553</td><td>SD0000007</td></tr>\n",
       "\t<tr><td>IM0000004</td><td>04-11-2013 12:09:37</td><td>001A5849980</td><td>Operator Update     </td><td>TEAM0003</td><td>KM0000553</td><td>SD0000007</td></tr>\n",
       "\t<tr><td>IM0000004</td><td>04-11-2013 12:09:37</td><td>001A5849979</td><td>Assignment          </td><td>TEAM0003</td><td>KM0000553</td><td>SD0000007</td></tr>\n",
       "\t<tr><td>IM0000004</td><td>04-11-2013 13:41:30</td><td>001A5852942</td><td>Assignment          </td><td>TEAM0002</td><td>KM0000553</td><td>SD0000007</td></tr>\n",
       "</tbody>\n",
       "</table>\n"
      ],
      "text/latex": [
       "A tibble: 6 × 7\n",
       "\\begin{tabular}{lllllll}\n",
       " Incident ID & DateStamp & IncidentActivity\\_Number & IncidentActivity\\_Type & Assignment Group & KM number & Interaction ID\\\\\n",
       " <chr> & <chr> & <chr> & <chr> & <chr> & <chr> & <chr>\\\\\n",
       "\\hline\n",
       "\t IM0000004 & 07-01-2013 08:17:17 & 001A3689763 & Reassignment         & TEAM0001 & KM0000553 & SD0000007\\\\\n",
       "\t IM0000004 & 04-11-2013 13:41:30 & 001A5852941 & Reassignment         & TEAM0002 & KM0000553 & SD0000007\\\\\n",
       "\t IM0000004 & 04-11-2013 13:41:30 & 001A5852943 & Update from customer & TEAM0002 & KM0000553 & SD0000007\\\\\n",
       "\t IM0000004 & 04-11-2013 12:09:37 & 001A5849980 & Operator Update      & TEAM0003 & KM0000553 & SD0000007\\\\\n",
       "\t IM0000004 & 04-11-2013 12:09:37 & 001A5849979 & Assignment           & TEAM0003 & KM0000553 & SD0000007\\\\\n",
       "\t IM0000004 & 04-11-2013 13:41:30 & 001A5852942 & Assignment           & TEAM0002 & KM0000553 & SD0000007\\\\\n",
       "\\end{tabular}\n"
      ],
      "text/markdown": [
       "\n",
       "A tibble: 6 × 7\n",
       "\n",
       "| Incident ID &lt;chr&gt; | DateStamp &lt;chr&gt; | IncidentActivity_Number &lt;chr&gt; | IncidentActivity_Type &lt;chr&gt; | Assignment Group &lt;chr&gt; | KM number &lt;chr&gt; | Interaction ID &lt;chr&gt; |\n",
       "|---|---|---|---|---|---|---|\n",
       "| IM0000004 | 07-01-2013 08:17:17 | 001A3689763 | Reassignment         | TEAM0001 | KM0000553 | SD0000007 |\n",
       "| IM0000004 | 04-11-2013 13:41:30 | 001A5852941 | Reassignment         | TEAM0002 | KM0000553 | SD0000007 |\n",
       "| IM0000004 | 04-11-2013 13:41:30 | 001A5852943 | Update from customer | TEAM0002 | KM0000553 | SD0000007 |\n",
       "| IM0000004 | 04-11-2013 12:09:37 | 001A5849980 | Operator Update      | TEAM0003 | KM0000553 | SD0000007 |\n",
       "| IM0000004 | 04-11-2013 12:09:37 | 001A5849979 | Assignment           | TEAM0003 | KM0000553 | SD0000007 |\n",
       "| IM0000004 | 04-11-2013 13:41:30 | 001A5852942 | Assignment           | TEAM0002 | KM0000553 | SD0000007 |\n",
       "\n"
      ],
      "text/plain": [
       "  Incident ID DateStamp           IncidentActivity_Number IncidentActivity_Type\n",
       "1 IM0000004   07-01-2013 08:17:17 001A3689763             Reassignment         \n",
       "2 IM0000004   04-11-2013 13:41:30 001A5852941             Reassignment         \n",
       "3 IM0000004   04-11-2013 13:41:30 001A5852943             Update from customer \n",
       "4 IM0000004   04-11-2013 12:09:37 001A5849980             Operator Update      \n",
       "5 IM0000004   04-11-2013 12:09:37 001A5849979             Assignment           \n",
       "6 IM0000004   04-11-2013 13:41:30 001A5852942             Assignment           \n",
       "  Assignment Group KM number Interaction ID\n",
       "1 TEAM0001         KM0000553 SD0000007     \n",
       "2 TEAM0002         KM0000553 SD0000007     \n",
       "3 TEAM0002         KM0000553 SD0000007     \n",
       "4 TEAM0003         KM0000553 SD0000007     \n",
       "5 TEAM0003         KM0000553 SD0000007     \n",
       "6 TEAM0002         KM0000553 SD0000007     "
      ]
     },
     "metadata": {},
     "output_type": "display_data"
    }
   ],
   "source": [
    "activity_log_incidents %>% head()"
   ]
  },
  {
   "cell_type": "code",
   "execution_count": 30,
   "metadata": {},
   "outputs": [
    {
     "data": {
      "text/html": [
       "<table class=\"dataframe\">\n",
       "<caption>A tibble: 6 × 21</caption>\n",
       "<thead>\n",
       "\t<tr><th scope=col>CI Name (aff)</th><th scope=col>CI Type (aff)</th><th scope=col>CI Subtype (aff)</th><th scope=col>Service Component WBS (aff)</th><th scope=col>Change ID</th><th scope=col>Change Type</th><th scope=col>Risk Assessment</th><th scope=col>Emergency Change</th><th scope=col>CAB-approval needed</th><th scope=col>Planned Start</th><th scope=col>...</th><th scope=col>Scheduled Downtime Start</th><th scope=col>Scheduled Downtime End</th><th scope=col>Actual Start</th><th scope=col>Actual End</th><th scope=col>Requested End Date</th><th scope=col>Change record Open Time</th><th scope=col>Change record Close Time</th><th scope=col>Originated from</th><th scope=col># Related Interactions</th><th scope=col># Related Incidents</th></tr>\n",
       "\t<tr><th scope=col>&lt;chr&gt;</th><th scope=col>&lt;chr&gt;</th><th scope=col>&lt;chr&gt;</th><th scope=col>&lt;chr&gt;</th><th scope=col>&lt;chr&gt;</th><th scope=col>&lt;chr&gt;</th><th scope=col>&lt;chr&gt;</th><th scope=col>&lt;chr&gt;</th><th scope=col>&lt;chr&gt;</th><th scope=col>&lt;chr&gt;</th><th scope=col>...</th><th scope=col>&lt;chr&gt;</th><th scope=col>&lt;chr&gt;</th><th scope=col>&lt;chr&gt;</th><th scope=col>&lt;chr&gt;</th><th scope=col>&lt;chr&gt;</th><th scope=col>&lt;chr&gt;</th><th scope=col>&lt;chr&gt;</th><th scope=col>&lt;chr&gt;</th><th scope=col>&lt;dbl&gt;</th><th scope=col>&lt;dbl&gt;</th></tr>\n",
       "</thead>\n",
       "<tbody>\n",
       "\t<tr><td>HMD000002</td><td>hardware      </td><td>MigratieDummy        </td><td>WBS000195</td><td>C00000003</td><td>Release Type 11        </td><td>Minor Change   </td><td>N</td><td>N</td><td>30-8-2012 7:00 </td><td>...</td><td>NA</td><td>NA</td><td>18-12-2013 14:00</td><td>18-12-2013 16:15</td><td>1-6-2012 0:00  </td><td>1-9-2011 9:13   </td><td>18-12-2013 16:16</td><td>Problem</td><td>NA</td><td>NA</td></tr>\n",
       "\t<tr><td>SUB000494</td><td>subapplication</td><td>Web Based Application</td><td>WBS000162</td><td>C00000005</td><td>Release Type 13        </td><td>Business Change</td><td>N</td><td>Y</td><td>4-3-2014 9:00  </td><td>...</td><td>NA</td><td>NA</td><td>4-3-2014 17:52  </td><td>4-3-2014 17:52  </td><td>7-6-2012 12:00 </td><td>6-10-2011 15:54 </td><td>5-3-2014 7:03   </td><td>Problem</td><td>NA</td><td>NA</td></tr>\n",
       "\t<tr><td>OVR000012</td><td>no type       </td><td>no subtype           </td><td>WBS000256</td><td>C00000006</td><td>Release Type 11        </td><td>Minor Change   </td><td>N</td><td>N</td><td>1-6-2011 7:00  </td><td>...</td><td>NA</td><td>NA</td><td>17-4-2013 14:00 </td><td>13-12-2013 17:00</td><td>31-3-2012 17:00</td><td>7-10-2011 10:06 </td><td>30-12-2013 9:40 </td><td>Problem</td><td>NA</td><td>NA</td></tr>\n",
       "\t<tr><td>ASW000010</td><td>software      </td><td>Automation Software  </td><td>WBS000284</td><td>C00000007</td><td>Standard Change Type 93</td><td>Minor Change   </td><td>N</td><td>N</td><td>21-6-2013 9:00 </td><td>...</td><td>NA</td><td>NA</td><td>NA              </td><td>NA              </td><td>2-9-2013 18:00 </td><td>14-11-2011 17:17</td><td>10-10-2013 10:16</td><td>Problem</td><td>NA</td><td>NA</td></tr>\n",
       "\t<tr><td>ASW000010</td><td>software      </td><td>Automation Software  </td><td>WBS000284</td><td>C00000008</td><td>Standard Change Type 93</td><td>Minor Change   </td><td>N</td><td>N</td><td>21-10-2013 9:00</td><td>...</td><td>NA</td><td>NA</td><td>24-10-2013 0:00 </td><td>25-10-2013 23:00</td><td>8-11-2013 18:00</td><td>30-11-2011 14:59</td><td>27-10-2013 14:52</td><td>Problem</td><td>NA</td><td>NA</td></tr>\n",
       "\t<tr><td>STA000026</td><td>application   </td><td>Standard Application </td><td>WBS000284</td><td>C00000008</td><td>Standard Change Type 93</td><td>Minor Change   </td><td>N</td><td>N</td><td>21-10-2013 9:00</td><td>...</td><td>NA</td><td>NA</td><td>24-10-2013 0:00 </td><td>25-10-2013 23:00</td><td>8-11-2013 18:00</td><td>30-11-2011 14:59</td><td>27-10-2013 14:52</td><td>Problem</td><td>NA</td><td>NA</td></tr>\n",
       "</tbody>\n",
       "</table>\n"
      ],
      "text/latex": [
       "A tibble: 6 × 21\n",
       "\\begin{tabular}{lllllllllllllllllllll}\n",
       " CI Name (aff) & CI Type (aff) & CI Subtype (aff) & Service Component WBS (aff) & Change ID & Change Type & Risk Assessment & Emergency Change & CAB-approval needed & Planned Start & ... & Scheduled Downtime Start & Scheduled Downtime End & Actual Start & Actual End & Requested End Date & Change record Open Time & Change record Close Time & Originated from & \\# Related Interactions & \\# Related Incidents\\\\\n",
       " <chr> & <chr> & <chr> & <chr> & <chr> & <chr> & <chr> & <chr> & <chr> & <chr> & ... & <chr> & <chr> & <chr> & <chr> & <chr> & <chr> & <chr> & <chr> & <dbl> & <dbl>\\\\\n",
       "\\hline\n",
       "\t HMD000002 & hardware       & MigratieDummy         & WBS000195 & C00000003 & Release Type 11         & Minor Change    & N & N & 30-8-2012 7:00  & ... & NA & NA & 18-12-2013 14:00 & 18-12-2013 16:15 & 1-6-2012 0:00   & 1-9-2011 9:13    & 18-12-2013 16:16 & Problem & NA & NA\\\\\n",
       "\t SUB000494 & subapplication & Web Based Application & WBS000162 & C00000005 & Release Type 13         & Business Change & N & Y & 4-3-2014 9:00   & ... & NA & NA & 4-3-2014 17:52   & 4-3-2014 17:52   & 7-6-2012 12:00  & 6-10-2011 15:54  & 5-3-2014 7:03    & Problem & NA & NA\\\\\n",
       "\t OVR000012 & no type        & no subtype            & WBS000256 & C00000006 & Release Type 11         & Minor Change    & N & N & 1-6-2011 7:00   & ... & NA & NA & 17-4-2013 14:00  & 13-12-2013 17:00 & 31-3-2012 17:00 & 7-10-2011 10:06  & 30-12-2013 9:40  & Problem & NA & NA\\\\\n",
       "\t ASW000010 & software       & Automation Software   & WBS000284 & C00000007 & Standard Change Type 93 & Minor Change    & N & N & 21-6-2013 9:00  & ... & NA & NA & NA               & NA               & 2-9-2013 18:00  & 14-11-2011 17:17 & 10-10-2013 10:16 & Problem & NA & NA\\\\\n",
       "\t ASW000010 & software       & Automation Software   & WBS000284 & C00000008 & Standard Change Type 93 & Minor Change    & N & N & 21-10-2013 9:00 & ... & NA & NA & 24-10-2013 0:00  & 25-10-2013 23:00 & 8-11-2013 18:00 & 30-11-2011 14:59 & 27-10-2013 14:52 & Problem & NA & NA\\\\\n",
       "\t STA000026 & application    & Standard Application  & WBS000284 & C00000008 & Standard Change Type 93 & Minor Change    & N & N & 21-10-2013 9:00 & ... & NA & NA & 24-10-2013 0:00  & 25-10-2013 23:00 & 8-11-2013 18:00 & 30-11-2011 14:59 & 27-10-2013 14:52 & Problem & NA & NA\\\\\n",
       "\\end{tabular}\n"
      ],
      "text/markdown": [
       "\n",
       "A tibble: 6 × 21\n",
       "\n",
       "| CI Name (aff) &lt;chr&gt; | CI Type (aff) &lt;chr&gt; | CI Subtype (aff) &lt;chr&gt; | Service Component WBS (aff) &lt;chr&gt; | Change ID &lt;chr&gt; | Change Type &lt;chr&gt; | Risk Assessment &lt;chr&gt; | Emergency Change &lt;chr&gt; | CAB-approval needed &lt;chr&gt; | Planned Start &lt;chr&gt; | ... ... | Scheduled Downtime Start &lt;chr&gt; | Scheduled Downtime End &lt;chr&gt; | Actual Start &lt;chr&gt; | Actual End &lt;chr&gt; | Requested End Date &lt;chr&gt; | Change record Open Time &lt;chr&gt; | Change record Close Time &lt;chr&gt; | Originated from &lt;chr&gt; | # Related Interactions &lt;dbl&gt; | # Related Incidents &lt;dbl&gt; |\n",
       "|---|---|---|---|---|---|---|---|---|---|---|---|---|---|---|---|---|---|---|---|---|\n",
       "| HMD000002 | hardware       | MigratieDummy         | WBS000195 | C00000003 | Release Type 11         | Minor Change    | N | N | 30-8-2012 7:00  | ... | NA | NA | 18-12-2013 14:00 | 18-12-2013 16:15 | 1-6-2012 0:00   | 1-9-2011 9:13    | 18-12-2013 16:16 | Problem | NA | NA |\n",
       "| SUB000494 | subapplication | Web Based Application | WBS000162 | C00000005 | Release Type 13         | Business Change | N | Y | 4-3-2014 9:00   | ... | NA | NA | 4-3-2014 17:52   | 4-3-2014 17:52   | 7-6-2012 12:00  | 6-10-2011 15:54  | 5-3-2014 7:03    | Problem | NA | NA |\n",
       "| OVR000012 | no type        | no subtype            | WBS000256 | C00000006 | Release Type 11         | Minor Change    | N | N | 1-6-2011 7:00   | ... | NA | NA | 17-4-2013 14:00  | 13-12-2013 17:00 | 31-3-2012 17:00 | 7-10-2011 10:06  | 30-12-2013 9:40  | Problem | NA | NA |\n",
       "| ASW000010 | software       | Automation Software   | WBS000284 | C00000007 | Standard Change Type 93 | Minor Change    | N | N | 21-6-2013 9:00  | ... | NA | NA | NA               | NA               | 2-9-2013 18:00  | 14-11-2011 17:17 | 10-10-2013 10:16 | Problem | NA | NA |\n",
       "| ASW000010 | software       | Automation Software   | WBS000284 | C00000008 | Standard Change Type 93 | Minor Change    | N | N | 21-10-2013 9:00 | ... | NA | NA | 24-10-2013 0:00  | 25-10-2013 23:00 | 8-11-2013 18:00 | 30-11-2011 14:59 | 27-10-2013 14:52 | Problem | NA | NA |\n",
       "| STA000026 | application    | Standard Application  | WBS000284 | C00000008 | Standard Change Type 93 | Minor Change    | N | N | 21-10-2013 9:00 | ... | NA | NA | 24-10-2013 0:00  | 25-10-2013 23:00 | 8-11-2013 18:00 | 30-11-2011 14:59 | 27-10-2013 14:52 | Problem | NA | NA |\n",
       "\n"
      ],
      "text/plain": [
       "  CI Name (aff) CI Type (aff)  CI Subtype (aff)     \n",
       "1 HMD000002     hardware       MigratieDummy        \n",
       "2 SUB000494     subapplication Web Based Application\n",
       "3 OVR000012     no type        no subtype           \n",
       "4 ASW000010     software       Automation Software  \n",
       "5 ASW000010     software       Automation Software  \n",
       "6 STA000026     application    Standard Application \n",
       "  Service Component WBS (aff) Change ID Change Type             Risk Assessment\n",
       "1 WBS000195                   C00000003 Release Type 11         Minor Change   \n",
       "2 WBS000162                   C00000005 Release Type 13         Business Change\n",
       "3 WBS000256                   C00000006 Release Type 11         Minor Change   \n",
       "4 WBS000284                   C00000007 Standard Change Type 93 Minor Change   \n",
       "5 WBS000284                   C00000008 Standard Change Type 93 Minor Change   \n",
       "6 WBS000284                   C00000008 Standard Change Type 93 Minor Change   \n",
       "  Emergency Change CAB-approval needed Planned Start   ...\n",
       "1 N                N                   30-8-2012 7:00  ...\n",
       "2 N                Y                   4-3-2014 9:00   ...\n",
       "3 N                N                   1-6-2011 7:00   ...\n",
       "4 N                N                   21-6-2013 9:00  ...\n",
       "5 N                N                   21-10-2013 9:00 ...\n",
       "6 N                N                   21-10-2013 9:00 ...\n",
       "  Scheduled Downtime Start Scheduled Downtime End Actual Start    \n",
       "1 NA                       NA                     18-12-2013 14:00\n",
       "2 NA                       NA                     4-3-2014 17:52  \n",
       "3 NA                       NA                     17-4-2013 14:00 \n",
       "4 NA                       NA                     NA              \n",
       "5 NA                       NA                     24-10-2013 0:00 \n",
       "6 NA                       NA                     24-10-2013 0:00 \n",
       "  Actual End       Requested End Date Change record Open Time\n",
       "1 18-12-2013 16:15 1-6-2012 0:00      1-9-2011 9:13          \n",
       "2 4-3-2014 17:52   7-6-2012 12:00     6-10-2011 15:54        \n",
       "3 13-12-2013 17:00 31-3-2012 17:00    7-10-2011 10:06        \n",
       "4 NA               2-9-2013 18:00     14-11-2011 17:17       \n",
       "5 25-10-2013 23:00 8-11-2013 18:00    30-11-2011 14:59       \n",
       "6 25-10-2013 23:00 8-11-2013 18:00    30-11-2011 14:59       \n",
       "  Change record Close Time Originated from # Related Interactions\n",
       "1 18-12-2013 16:16         Problem         NA                    \n",
       "2 5-3-2014 7:03            Problem         NA                    \n",
       "3 30-12-2013 9:40          Problem         NA                    \n",
       "4 10-10-2013 10:16         Problem         NA                    \n",
       "5 27-10-2013 14:52         Problem         NA                    \n",
       "6 27-10-2013 14:52         Problem         NA                    \n",
       "  # Related Incidents\n",
       "1 NA                 \n",
       "2 NA                 \n",
       "3 NA                 \n",
       "4 NA                 \n",
       "5 NA                 \n",
       "6 NA                 "
      ]
     },
     "metadata": {},
     "output_type": "display_data"
    }
   ],
   "source": [
    "change_data %>% head()"
   ]
  },
  {
   "cell_type": "markdown",
   "metadata": {},
   "source": [
    "## Event Log\n",
    "\n",
    "Have a look at the excellent `bupaR` documentation: http://bupar.net/creating_eventlogs.html"
   ]
  },
  {
   "cell_type": "code",
   "execution_count": null,
   "metadata": {},
   "outputs": [],
   "source": []
  }
 ],
 "metadata": {
  "kernelspec": {
   "display_name": "R",
   "language": "R",
   "name": "ir"
  },
  "language_info": {
   "codemirror_mode": "r",
   "file_extension": ".r",
   "mimetype": "text/x-r-source",
   "name": "R",
   "pygments_lexer": "r",
   "version": "4.0.5"
  }
 },
 "nbformat": 4,
 "nbformat_minor": 4
}
