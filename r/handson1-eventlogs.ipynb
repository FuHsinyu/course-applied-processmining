{
 "cells": [
  {
   "cell_type": "markdown",
   "metadata": {
    "tags": []
   },
   "source": [
    "# Process Mining Module -  PDEng program Data Science\n",
    "\n",
    "This notebook is part of the Process Mining module of the JADS PDEng program on Data Science. It accompanies Assignment 1 on *Event Logs and Process Visualization*. \n",
    "The collection of notebooks is a *living document* and subject to change. \n",
    "\n",
    "# Hands-On 1 - 'Event Logs and Process Visualization' (R / bupaR)\n",
    "\n",
    "* **Responsible Lecturer**: Dr. Felix Mannhardt, [@fmannhardt](https://twitter.com/fmannhardt)\n",
    "* **Last Update**: 21th April 2021"
   ]
  },
  {
   "cell_type": "markdown",
   "metadata": {},
   "source": [
    "## Setup\n",
    "\n",
    "<img src=\"http://bupar.net/images/logo_text.PNG\" alt=\"bupaR\" style=\"width: 200px;\"/>\n",
    "\n",
    "In this notebook, we are going to need the `tidyverse` and the `bupaR` packages."
   ]
  },
  {
   "cell_type": "code",
   "execution_count": null,
   "metadata": {},
   "outputs": [],
   "source": [
    "## Perform the commented out commands below in a separate R session\n",
    "# install.packages(\"tidyverse\")\n",
    "# install.packages(\"bupaR\")"
   ]
  },
  {
   "cell_type": "code",
   "execution_count": null,
   "metadata": {},
   "outputs": [],
   "source": [
    "# for larger and readable plots\n",
    "options(jupyter.plot_scale=1.25)"
   ]
  },
  {
   "cell_type": "code",
   "execution_count": null,
   "metadata": {},
   "outputs": [],
   "source": [
    "# the initial execution of these may give you warnings that you can safely ignore\n",
    "library(tidyverse)\n",
    "library(bupaR)\n",
    "library(processanimateR)"
   ]
  },
  {
   "cell_type": "markdown",
   "metadata": {},
   "source": [
    "## Dataset"
   ]
  },
  {
   "cell_type": "markdown",
   "metadata": {},
   "source": [
    "The proposed real-life dataset to investigate is the *BPI Challenge 2014* dataset. The dataset is captured from the ITIL process of Rabobank Group ICT and has been subject to the yearly BPI challenge in 2014. Here is more informaation on the dataset and downloads links to the data files:\n",
    "\n",
    "* [Overview](https://www.win.tue.nl/bpi/doku.php?id=2014:challenge)\n",
    "* [Dataset](http://dx.doi.org/10.4121/uuid:c3e5d162-0cfd-4bb0-bd82-af5268819c35)\n",
    "* [Quick Reference](https://www.win.tue.nl/bpi/lib/exe/fetch.php?media=2014:quick_reference_bpi_challenge_2014.pdf)\n",
    "\n",
    "On the BPI Challenge 2014 website above, there are also several reports that describe and analyze the dataset in detail. We suggest to first explore the dataset without reading the reports."
   ]
  },
  {
   "cell_type": "markdown",
   "metadata": {},
   "source": [
    "## Data Loading"
   ]
  },
  {
   "cell_type": "markdown",
   "metadata": {},
   "source": [
    "To simplify the data loading task, here are the initial steps:"
   ]
  },
  {
   "cell_type": "code",
   "execution_count": null,
   "metadata": {},
   "outputs": [],
   "source": [
    "# some warnings are expected here\n",
    "interaction_data <- read_csv2(\"https://data.4tu.nl/ndownloader/files/24031670\")\n",
    "incident_data <- read_csv2(\"https://data.4tu.nl/ndownloader/files/24031637\")\n",
    "activity_log_incidents <- read_csv2(\"https://data.4tu.nl/ndownloader/files/24060575\")\n",
    "change_data <- read_csv2(\"https://data.4tu.nl/ndownloader/files/24073421\")"
   ]
  },
  {
   "cell_type": "code",
   "execution_count": null,
   "metadata": {},
   "outputs": [],
   "source": [
    "interaction_data %>% head()"
   ]
  },
  {
   "cell_type": "code",
   "execution_count": null,
   "metadata": {},
   "outputs": [],
   "source": [
    "incident_data %>% head()"
   ]
  },
  {
   "cell_type": "code",
   "execution_count": null,
   "metadata": {},
   "outputs": [],
   "source": [
    "activity_log_incidents %>% head()"
   ]
  },
  {
   "cell_type": "code",
   "execution_count": null,
   "metadata": {},
   "outputs": [],
   "source": [
    "change_data %>% head()"
   ]
  },
  {
   "cell_type": "markdown",
   "metadata": {},
   "source": [
    "## Assignment"
   ]
  },
  {
   "cell_type": "markdown",
   "metadata": {},
   "source": [
    "In this hands-on session, you are going to explore a real-life dataset and apply what was presented in the lecture about event logs and basic process mining visualizations.\n",
    "The objective is to explore your dataset and as an event log and with the learned process mining visualizations in mind.\n",
    "\n",
    "* Analyse basic properties of the the process (business process or other process) that has generated it. \n",
    "    * What are possible case notions / what is the or what are the case identifiers?\n",
    "    * What are the activities? Are all activities on the same abstraction level? Can activities be derived from other data?\n",
    "    * Can activities or actions be derived from other (non-activity) data?\n",
    "* Discovery a map of the process (or a sub-process) behind it.\n",
    "    * Are there multiple processes that can be discovered?\n",
    "    * What is the effect of taking a subset of the data (by incident type, …)? "
   ]
  },
  {
   "cell_type": "markdown",
   "metadata": {},
   "source": [
    "### Event Log\n",
    "\n",
    "Have a look at the excellent `bupaR` documentation: http://bupar.net/creating_eventlogs.html"
   ]
  },
  {
   "cell_type": "code",
   "execution_count": null,
   "metadata": {},
   "outputs": [],
   "source": []
  },
  {
   "cell_type": "markdown",
   "metadata": {},
   "source": [
    "### Dotted Chart"
   ]
  },
  {
   "cell_type": "code",
   "execution_count": null,
   "metadata": {},
   "outputs": [],
   "source": []
  },
  {
   "cell_type": "markdown",
   "metadata": {},
   "source": [
    "### Process Maps"
   ]
  },
  {
   "cell_type": "code",
   "execution_count": null,
   "metadata": {},
   "outputs": [],
   "source": []
  }
 ],
 "metadata": {
  "kernelspec": {
   "display_name": "R",
   "language": "R",
   "name": "ir"
  },
  "language_info": {
   "codemirror_mode": "r",
   "file_extension": ".r",
   "mimetype": "text/x-r-source",
   "name": "R",
   "pygments_lexer": "r",
   "version": "4.0.5"
  }
 },
 "nbformat": 4,
 "nbformat_minor": 4
}
